{
 "cells": [
  {
   "cell_type": "code",
   "execution_count": 1,
   "id": "efd84946",
   "metadata": {
    "_cell_guid": "b1076dfc-b9ad-4769-8c92-a6c4dae69d19",
    "_uuid": "8f2839f25d086af736a60e9eeb907d3b93b6e0e5",
    "execution": {
     "iopub.execute_input": "2025-05-13T04:54:32.619969Z",
     "iopub.status.busy": "2025-05-13T04:54:32.619611Z",
     "iopub.status.idle": "2025-05-13T04:54:34.981725Z",
     "shell.execute_reply": "2025-05-13T04:54:34.980594Z"
    },
    "papermill": {
     "duration": 2.385104,
     "end_time": "2025-05-13T04:54:34.984012",
     "exception": false,
     "start_time": "2025-05-13T04:54:32.598908",
     "status": "completed"
    },
    "tags": []
   },
   "outputs": [
    {
     "name": "stdout",
     "output_type": "stream",
     "text": [
      "/kaggle/input/titanic-dataset/Titanic-Dataset.csv\n"
     ]
    }
   ],
   "source": [
    "# This Python 3 environment comes with many helpful analytics libraries installed\n",
    "# It is defined by the kaggle/python Docker image: https://github.com/kaggle/docker-python\n",
    "# For example, here's several helpful packages to load\n",
    "\n",
    "import numpy as np # linear algebra\n",
    "import pandas as pd # data processing, CSV file I/O (e.g. pd.read_csv)\n",
    "\n",
    "# Input data files are available in the read-only \"../input/\" directory\n",
    "# For example, running this (by clicking run or pressing Shift+Enter) will list all files under the input directory\n",
    "\n",
    "import os\n",
    "for dirname, _, filenames in os.walk('/kaggle/input'):\n",
    "    for filename in filenames:\n",
    "        print(os.path.join(dirname, filename))\n",
    "\n",
    "# You can write up to 20GB to the current directory (/kaggle/working/) that gets preserved as output when you create a version using \"Save & Run All\" \n",
    "# You can also write temporary files to /kaggle/temp/, but they won't be saved outside of the current session"
   ]
  },
  {
   "cell_type": "code",
   "execution_count": 2,
   "id": "253deb43",
   "metadata": {
    "execution": {
     "iopub.execute_input": "2025-05-13T04:54:35.007454Z",
     "iopub.status.busy": "2025-05-13T04:54:35.007029Z",
     "iopub.status.idle": "2025-05-13T04:54:35.037040Z",
     "shell.execute_reply": "2025-05-13T04:54:35.035989Z"
    },
    "papermill": {
     "duration": 0.043394,
     "end_time": "2025-05-13T04:54:35.038739",
     "exception": false,
     "start_time": "2025-05-13T04:54:34.995345",
     "status": "completed"
    },
    "tags": []
   },
   "outputs": [],
   "source": [
    "df =pd.read_csv('/kaggle/input/titanic-dataset/Titanic-Dataset.csv')"
   ]
  },
  {
   "cell_type": "code",
   "execution_count": 3,
   "id": "da84449f",
   "metadata": {
    "execution": {
     "iopub.execute_input": "2025-05-13T04:54:35.060436Z",
     "iopub.status.busy": "2025-05-13T04:54:35.060098Z",
     "iopub.status.idle": "2025-05-13T04:54:35.092627Z",
     "shell.execute_reply": "2025-05-13T04:54:35.090834Z"
    },
    "papermill": {
     "duration": 0.045222,
     "end_time": "2025-05-13T04:54:35.094404",
     "exception": false,
     "start_time": "2025-05-13T04:54:35.049182",
     "status": "completed"
    },
    "tags": []
   },
   "outputs": [
    {
     "data": {
      "text/html": [
       "<div>\n",
       "<style scoped>\n",
       "    .dataframe tbody tr th:only-of-type {\n",
       "        vertical-align: middle;\n",
       "    }\n",
       "\n",
       "    .dataframe tbody tr th {\n",
       "        vertical-align: top;\n",
       "    }\n",
       "\n",
       "    .dataframe thead th {\n",
       "        text-align: right;\n",
       "    }\n",
       "</style>\n",
       "<table border=\"1\" class=\"dataframe\">\n",
       "  <thead>\n",
       "    <tr style=\"text-align: right;\">\n",
       "      <th></th>\n",
       "      <th>PassengerId</th>\n",
       "      <th>Survived</th>\n",
       "      <th>Pclass</th>\n",
       "      <th>Name</th>\n",
       "      <th>Sex</th>\n",
       "      <th>Age</th>\n",
       "      <th>SibSp</th>\n",
       "      <th>Parch</th>\n",
       "      <th>Ticket</th>\n",
       "      <th>Fare</th>\n",
       "      <th>Cabin</th>\n",
       "      <th>Embarked</th>\n",
       "    </tr>\n",
       "  </thead>\n",
       "  <tbody>\n",
       "    <tr>\n",
       "      <th>0</th>\n",
       "      <td>1</td>\n",
       "      <td>0</td>\n",
       "      <td>3</td>\n",
       "      <td>Braund, Mr. Owen Harris</td>\n",
       "      <td>male</td>\n",
       "      <td>22.0</td>\n",
       "      <td>1</td>\n",
       "      <td>0</td>\n",
       "      <td>A/5 21171</td>\n",
       "      <td>7.2500</td>\n",
       "      <td>NaN</td>\n",
       "      <td>S</td>\n",
       "    </tr>\n",
       "    <tr>\n",
       "      <th>1</th>\n",
       "      <td>2</td>\n",
       "      <td>1</td>\n",
       "      <td>1</td>\n",
       "      <td>Cumings, Mrs. John Bradley (Florence Briggs Th...</td>\n",
       "      <td>female</td>\n",
       "      <td>38.0</td>\n",
       "      <td>1</td>\n",
       "      <td>0</td>\n",
       "      <td>PC 17599</td>\n",
       "      <td>71.2833</td>\n",
       "      <td>C85</td>\n",
       "      <td>C</td>\n",
       "    </tr>\n",
       "    <tr>\n",
       "      <th>2</th>\n",
       "      <td>3</td>\n",
       "      <td>1</td>\n",
       "      <td>3</td>\n",
       "      <td>Heikkinen, Miss. Laina</td>\n",
       "      <td>female</td>\n",
       "      <td>26.0</td>\n",
       "      <td>0</td>\n",
       "      <td>0</td>\n",
       "      <td>STON/O2. 3101282</td>\n",
       "      <td>7.9250</td>\n",
       "      <td>NaN</td>\n",
       "      <td>S</td>\n",
       "    </tr>\n",
       "    <tr>\n",
       "      <th>3</th>\n",
       "      <td>4</td>\n",
       "      <td>1</td>\n",
       "      <td>1</td>\n",
       "      <td>Futrelle, Mrs. Jacques Heath (Lily May Peel)</td>\n",
       "      <td>female</td>\n",
       "      <td>35.0</td>\n",
       "      <td>1</td>\n",
       "      <td>0</td>\n",
       "      <td>113803</td>\n",
       "      <td>53.1000</td>\n",
       "      <td>C123</td>\n",
       "      <td>S</td>\n",
       "    </tr>\n",
       "    <tr>\n",
       "      <th>4</th>\n",
       "      <td>5</td>\n",
       "      <td>0</td>\n",
       "      <td>3</td>\n",
       "      <td>Allen, Mr. William Henry</td>\n",
       "      <td>male</td>\n",
       "      <td>35.0</td>\n",
       "      <td>0</td>\n",
       "      <td>0</td>\n",
       "      <td>373450</td>\n",
       "      <td>8.0500</td>\n",
       "      <td>NaN</td>\n",
       "      <td>S</td>\n",
       "    </tr>\n",
       "  </tbody>\n",
       "</table>\n",
       "</div>"
      ],
      "text/plain": [
       "   PassengerId  Survived  Pclass  \\\n",
       "0            1         0       3   \n",
       "1            2         1       1   \n",
       "2            3         1       3   \n",
       "3            4         1       1   \n",
       "4            5         0       3   \n",
       "\n",
       "                                                Name     Sex   Age  SibSp  \\\n",
       "0                            Braund, Mr. Owen Harris    male  22.0      1   \n",
       "1  Cumings, Mrs. John Bradley (Florence Briggs Th...  female  38.0      1   \n",
       "2                             Heikkinen, Miss. Laina  female  26.0      0   \n",
       "3       Futrelle, Mrs. Jacques Heath (Lily May Peel)  female  35.0      1   \n",
       "4                           Allen, Mr. William Henry    male  35.0      0   \n",
       "\n",
       "   Parch            Ticket     Fare Cabin Embarked  \n",
       "0      0         A/5 21171   7.2500   NaN        S  \n",
       "1      0          PC 17599  71.2833   C85        C  \n",
       "2      0  STON/O2. 3101282   7.9250   NaN        S  \n",
       "3      0            113803  53.1000  C123        S  \n",
       "4      0            373450   8.0500   NaN        S  "
      ]
     },
     "execution_count": 3,
     "metadata": {},
     "output_type": "execute_result"
    }
   ],
   "source": [
    "df.head()"
   ]
  },
  {
   "cell_type": "code",
   "execution_count": 4,
   "id": "d495caf8",
   "metadata": {
    "execution": {
     "iopub.execute_input": "2025-05-13T04:54:35.119085Z",
     "iopub.status.busy": "2025-05-13T04:54:35.118756Z",
     "iopub.status.idle": "2025-05-13T04:54:35.128444Z",
     "shell.execute_reply": "2025-05-13T04:54:35.126992Z"
    },
    "papermill": {
     "duration": 0.025239,
     "end_time": "2025-05-13T04:54:35.131178",
     "exception": false,
     "start_time": "2025-05-13T04:54:35.105939",
     "status": "completed"
    },
    "tags": []
   },
   "outputs": [
    {
     "data": {
      "text/plain": [
       "PassengerId      int64\n",
       "Survived         int64\n",
       "Pclass           int64\n",
       "Name            object\n",
       "Sex             object\n",
       "Age            float64\n",
       "SibSp            int64\n",
       "Parch            int64\n",
       "Ticket          object\n",
       "Fare           float64\n",
       "Cabin           object\n",
       "Embarked        object\n",
       "dtype: object"
      ]
     },
     "execution_count": 4,
     "metadata": {},
     "output_type": "execute_result"
    }
   ],
   "source": [
    "df.dtypes"
   ]
  },
  {
   "cell_type": "code",
   "execution_count": 5,
   "id": "7bd6147a",
   "metadata": {
    "execution": {
     "iopub.execute_input": "2025-05-13T04:54:35.154332Z",
     "iopub.status.busy": "2025-05-13T04:54:35.153388Z",
     "iopub.status.idle": "2025-05-13T04:54:35.161259Z",
     "shell.execute_reply": "2025-05-13T04:54:35.160062Z"
    },
    "papermill": {
     "duration": 0.021244,
     "end_time": "2025-05-13T04:54:35.163407",
     "exception": false,
     "start_time": "2025-05-13T04:54:35.142163",
     "status": "completed"
    },
    "tags": []
   },
   "outputs": [
    {
     "data": {
      "text/plain": [
       "(891, 12)"
      ]
     },
     "execution_count": 5,
     "metadata": {},
     "output_type": "execute_result"
    }
   ],
   "source": [
    "df.shape"
   ]
  },
  {
   "cell_type": "code",
   "execution_count": 6,
   "id": "db9afeb4",
   "metadata": {
    "execution": {
     "iopub.execute_input": "2025-05-13T04:54:35.185473Z",
     "iopub.status.busy": "2025-05-13T04:54:35.185131Z",
     "iopub.status.idle": "2025-05-13T04:54:35.195840Z",
     "shell.execute_reply": "2025-05-13T04:54:35.194719Z"
    },
    "papermill": {
     "duration": 0.023667,
     "end_time": "2025-05-13T04:54:35.197591",
     "exception": false,
     "start_time": "2025-05-13T04:54:35.173924",
     "status": "completed"
    },
    "tags": []
   },
   "outputs": [
    {
     "data": {
      "text/plain": [
       "PassengerId      0\n",
       "Survived         0\n",
       "Pclass           0\n",
       "Name             0\n",
       "Sex              0\n",
       "Age            177\n",
       "SibSp            0\n",
       "Parch            0\n",
       "Ticket           0\n",
       "Fare             0\n",
       "Cabin          687\n",
       "Embarked         2\n",
       "dtype: int64"
      ]
     },
     "execution_count": 6,
     "metadata": {},
     "output_type": "execute_result"
    }
   ],
   "source": [
    "df.isnull().sum()"
   ]
  },
  {
   "cell_type": "code",
   "execution_count": 7,
   "id": "260081ad",
   "metadata": {
    "execution": {
     "iopub.execute_input": "2025-05-13T04:54:35.220854Z",
     "iopub.status.busy": "2025-05-13T04:54:35.220471Z",
     "iopub.status.idle": "2025-05-13T04:54:35.234751Z",
     "shell.execute_reply": "2025-05-13T04:54:35.233710Z"
    },
    "papermill": {
     "duration": 0.027829,
     "end_time": "2025-05-13T04:54:35.236575",
     "exception": false,
     "start_time": "2025-05-13T04:54:35.208746",
     "status": "completed"
    },
    "tags": []
   },
   "outputs": [],
   "source": [
    "#Preprocessing\n",
    "\n",
    "#Embarked have 2 , very few missing values - replace with mode\n",
    "df['Embarked'] = df['Embarked'].fillna(df['Embarked'].mode()[0])\n",
    "\n",
    "\n",
    "\n",
    "#extract deck from first lette of cabin \n",
    "\n",
    "df['Deck'] = df['Cabin'].str[0]\n",
    "\n",
    "\n",
    "\n"
   ]
  },
  {
   "cell_type": "code",
   "execution_count": 8,
   "id": "7bfecf24",
   "metadata": {
    "execution": {
     "iopub.execute_input": "2025-05-13T04:54:35.260010Z",
     "iopub.status.busy": "2025-05-13T04:54:35.259706Z",
     "iopub.status.idle": "2025-05-13T04:54:35.269186Z",
     "shell.execute_reply": "2025-05-13T04:54:35.268172Z"
    },
    "papermill": {
     "duration": 0.023212,
     "end_time": "2025-05-13T04:54:35.270876",
     "exception": false,
     "start_time": "2025-05-13T04:54:35.247664",
     "status": "completed"
    },
    "tags": []
   },
   "outputs": [
    {
     "data": {
      "text/plain": [
       "PassengerId      0\n",
       "Survived         0\n",
       "Pclass           0\n",
       "Name             0\n",
       "Sex              0\n",
       "Age            177\n",
       "SibSp            0\n",
       "Parch            0\n",
       "Ticket           0\n",
       "Fare             0\n",
       "Cabin          687\n",
       "Embarked         0\n",
       "Deck           687\n",
       "dtype: int64"
      ]
     },
     "execution_count": 8,
     "metadata": {},
     "output_type": "execute_result"
    }
   ],
   "source": [
    "df.isnull().sum()"
   ]
  },
  {
   "cell_type": "code",
   "execution_count": 9,
   "id": "ffab7d0f",
   "metadata": {
    "execution": {
     "iopub.execute_input": "2025-05-13T04:54:35.294215Z",
     "iopub.status.busy": "2025-05-13T04:54:35.293931Z",
     "iopub.status.idle": "2025-05-13T04:54:37.845089Z",
     "shell.execute_reply": "2025-05-13T04:54:37.842922Z"
    },
    "papermill": {
     "duration": 2.565699,
     "end_time": "2025-05-13T04:54:37.846918",
     "exception": false,
     "start_time": "2025-05-13T04:54:35.281219",
     "status": "completed"
    },
    "tags": []
   },
   "outputs": [],
   "source": [
    "#handling missing age\n",
    "\n",
    "from sklearn.impute import KNNImputer\n",
    "from sklearn.preprocessing import StandardScaler\n",
    "features_for_age = ['Age','Fare','Pclass','SibSp','Parch']\n",
    "\n",
    "scaler = StandardScaler()\n",
    "df_scaled = scaler.fit_transform(df[features_for_age])\n",
    "\n",
    "# Impute\n",
    "imputer = KNNImputer(n_neighbors=5)\n",
    "imputed_scaled = imputer.fit_transform(df_scaled)\n",
    "\n",
    "# Inverse scale to original space\n",
    "df_imputed = scaler.inverse_transform(imputed_scaled)\n",
    "\n",
    "# Update only 'Age' in original df\n",
    "df['Age'] = df_imputed[:, features_for_age.index('Age')]"
   ]
  },
  {
   "cell_type": "code",
   "execution_count": 10,
   "id": "9b4313f1",
   "metadata": {
    "execution": {
     "iopub.execute_input": "2025-05-13T04:54:37.871630Z",
     "iopub.status.busy": "2025-05-13T04:54:37.870959Z",
     "iopub.status.idle": "2025-05-13T04:54:37.882564Z",
     "shell.execute_reply": "2025-05-13T04:54:37.881088Z"
    },
    "papermill": {
     "duration": 0.026588,
     "end_time": "2025-05-13T04:54:37.884477",
     "exception": false,
     "start_time": "2025-05-13T04:54:37.857889",
     "status": "completed"
    },
    "tags": []
   },
   "outputs": [
    {
     "data": {
      "text/plain": [
       "PassengerId      0\n",
       "Survived         0\n",
       "Pclass           0\n",
       "Name             0\n",
       "Sex              0\n",
       "Age              0\n",
       "SibSp            0\n",
       "Parch            0\n",
       "Ticket           0\n",
       "Fare             0\n",
       "Cabin          687\n",
       "Embarked         0\n",
       "Deck           687\n",
       "dtype: int64"
      ]
     },
     "execution_count": 10,
     "metadata": {},
     "output_type": "execute_result"
    }
   ],
   "source": [
    "\n",
    "df.isnull().sum()\n"
   ]
  },
  {
   "cell_type": "code",
   "execution_count": 11,
   "id": "f456c781",
   "metadata": {
    "execution": {
     "iopub.execute_input": "2025-05-13T04:54:37.906639Z",
     "iopub.status.busy": "2025-05-13T04:54:37.906276Z",
     "iopub.status.idle": "2025-05-13T04:54:37.921571Z",
     "shell.execute_reply": "2025-05-13T04:54:37.920585Z"
    },
    "papermill": {
     "duration": 0.02833,
     "end_time": "2025-05-13T04:54:37.923209",
     "exception": false,
     "start_time": "2025-05-13T04:54:37.894879",
     "status": "completed"
    },
    "tags": []
   },
   "outputs": [
    {
     "data": {
      "text/html": [
       "<div>\n",
       "<style scoped>\n",
       "    .dataframe tbody tr th:only-of-type {\n",
       "        vertical-align: middle;\n",
       "    }\n",
       "\n",
       "    .dataframe tbody tr th {\n",
       "        vertical-align: top;\n",
       "    }\n",
       "\n",
       "    .dataframe thead th {\n",
       "        text-align: right;\n",
       "    }\n",
       "</style>\n",
       "<table border=\"1\" class=\"dataframe\">\n",
       "  <thead>\n",
       "    <tr style=\"text-align: right;\">\n",
       "      <th></th>\n",
       "      <th>PassengerId</th>\n",
       "      <th>Survived</th>\n",
       "      <th>Pclass</th>\n",
       "      <th>Name</th>\n",
       "      <th>Sex</th>\n",
       "      <th>Age</th>\n",
       "      <th>SibSp</th>\n",
       "      <th>Parch</th>\n",
       "      <th>Ticket</th>\n",
       "      <th>Fare</th>\n",
       "      <th>Cabin</th>\n",
       "      <th>Embarked</th>\n",
       "      <th>Deck</th>\n",
       "    </tr>\n",
       "  </thead>\n",
       "  <tbody>\n",
       "    <tr>\n",
       "      <th>0</th>\n",
       "      <td>1</td>\n",
       "      <td>0</td>\n",
       "      <td>3</td>\n",
       "      <td>Braund, Mr. Owen Harris</td>\n",
       "      <td>male</td>\n",
       "      <td>22.0</td>\n",
       "      <td>1</td>\n",
       "      <td>0</td>\n",
       "      <td>A/5 21171</td>\n",
       "      <td>7.2500</td>\n",
       "      <td>NaN</td>\n",
       "      <td>S</td>\n",
       "      <td>NaN</td>\n",
       "    </tr>\n",
       "    <tr>\n",
       "      <th>1</th>\n",
       "      <td>2</td>\n",
       "      <td>1</td>\n",
       "      <td>1</td>\n",
       "      <td>Cumings, Mrs. John Bradley (Florence Briggs Th...</td>\n",
       "      <td>female</td>\n",
       "      <td>38.0</td>\n",
       "      <td>1</td>\n",
       "      <td>0</td>\n",
       "      <td>PC 17599</td>\n",
       "      <td>71.2833</td>\n",
       "      <td>C85</td>\n",
       "      <td>C</td>\n",
       "      <td>C</td>\n",
       "    </tr>\n",
       "    <tr>\n",
       "      <th>2</th>\n",
       "      <td>3</td>\n",
       "      <td>1</td>\n",
       "      <td>3</td>\n",
       "      <td>Heikkinen, Miss. Laina</td>\n",
       "      <td>female</td>\n",
       "      <td>26.0</td>\n",
       "      <td>0</td>\n",
       "      <td>0</td>\n",
       "      <td>STON/O2. 3101282</td>\n",
       "      <td>7.9250</td>\n",
       "      <td>NaN</td>\n",
       "      <td>S</td>\n",
       "      <td>NaN</td>\n",
       "    </tr>\n",
       "    <tr>\n",
       "      <th>3</th>\n",
       "      <td>4</td>\n",
       "      <td>1</td>\n",
       "      <td>1</td>\n",
       "      <td>Futrelle, Mrs. Jacques Heath (Lily May Peel)</td>\n",
       "      <td>female</td>\n",
       "      <td>35.0</td>\n",
       "      <td>1</td>\n",
       "      <td>0</td>\n",
       "      <td>113803</td>\n",
       "      <td>53.1000</td>\n",
       "      <td>C123</td>\n",
       "      <td>S</td>\n",
       "      <td>C</td>\n",
       "    </tr>\n",
       "    <tr>\n",
       "      <th>4</th>\n",
       "      <td>5</td>\n",
       "      <td>0</td>\n",
       "      <td>3</td>\n",
       "      <td>Allen, Mr. William Henry</td>\n",
       "      <td>male</td>\n",
       "      <td>35.0</td>\n",
       "      <td>0</td>\n",
       "      <td>0</td>\n",
       "      <td>373450</td>\n",
       "      <td>8.0500</td>\n",
       "      <td>NaN</td>\n",
       "      <td>S</td>\n",
       "      <td>NaN</td>\n",
       "    </tr>\n",
       "  </tbody>\n",
       "</table>\n",
       "</div>"
      ],
      "text/plain": [
       "   PassengerId  Survived  Pclass  \\\n",
       "0            1         0       3   \n",
       "1            2         1       1   \n",
       "2            3         1       3   \n",
       "3            4         1       1   \n",
       "4            5         0       3   \n",
       "\n",
       "                                                Name     Sex   Age  SibSp  \\\n",
       "0                            Braund, Mr. Owen Harris    male  22.0      1   \n",
       "1  Cumings, Mrs. John Bradley (Florence Briggs Th...  female  38.0      1   \n",
       "2                             Heikkinen, Miss. Laina  female  26.0      0   \n",
       "3       Futrelle, Mrs. Jacques Heath (Lily May Peel)  female  35.0      1   \n",
       "4                           Allen, Mr. William Henry    male  35.0      0   \n",
       "\n",
       "   Parch            Ticket     Fare Cabin Embarked Deck  \n",
       "0      0         A/5 21171   7.2500   NaN        S  NaN  \n",
       "1      0          PC 17599  71.2833   C85        C    C  \n",
       "2      0  STON/O2. 3101282   7.9250   NaN        S  NaN  \n",
       "3      0            113803  53.1000  C123        S    C  \n",
       "4      0            373450   8.0500   NaN        S  NaN  "
      ]
     },
     "execution_count": 11,
     "metadata": {},
     "output_type": "execute_result"
    }
   ],
   "source": [
    "df.head()"
   ]
  },
  {
   "cell_type": "code",
   "execution_count": 12,
   "id": "6a1b86f0",
   "metadata": {
    "execution": {
     "iopub.execute_input": "2025-05-13T04:54:37.946416Z",
     "iopub.status.busy": "2025-05-13T04:54:37.946064Z",
     "iopub.status.idle": "2025-05-13T04:54:37.953627Z",
     "shell.execute_reply": "2025-05-13T04:54:37.952501Z"
    },
    "papermill": {
     "duration": 0.021112,
     "end_time": "2025-05-13T04:54:37.955196",
     "exception": false,
     "start_time": "2025-05-13T04:54:37.934084",
     "status": "completed"
    },
    "tags": []
   },
   "outputs": [
    {
     "data": {
      "text/plain": [
       "PassengerId      int64\n",
       "Survived         int64\n",
       "Pclass           int64\n",
       "Name            object\n",
       "Sex             object\n",
       "Age            float64\n",
       "SibSp            int64\n",
       "Parch            int64\n",
       "Ticket          object\n",
       "Fare           float64\n",
       "Cabin           object\n",
       "Embarked        object\n",
       "Deck            object\n",
       "dtype: object"
      ]
     },
     "execution_count": 12,
     "metadata": {},
     "output_type": "execute_result"
    }
   ],
   "source": [
    "df.dtypes"
   ]
  },
  {
   "cell_type": "code",
   "execution_count": 13,
   "id": "d57d8cfa",
   "metadata": {
    "execution": {
     "iopub.execute_input": "2025-05-13T04:54:37.978506Z",
     "iopub.status.busy": "2025-05-13T04:54:37.978178Z",
     "iopub.status.idle": "2025-05-13T04:54:38.013505Z",
     "shell.execute_reply": "2025-05-13T04:54:38.012412Z"
    },
    "papermill": {
     "duration": 0.049158,
     "end_time": "2025-05-13T04:54:38.015408",
     "exception": false,
     "start_time": "2025-05-13T04:54:37.966250",
     "status": "completed"
    },
    "tags": []
   },
   "outputs": [
    {
     "data": {
      "text/html": [
       "<div>\n",
       "<style scoped>\n",
       "    .dataframe tbody tr th:only-of-type {\n",
       "        vertical-align: middle;\n",
       "    }\n",
       "\n",
       "    .dataframe tbody tr th {\n",
       "        vertical-align: top;\n",
       "    }\n",
       "\n",
       "    .dataframe thead th {\n",
       "        text-align: right;\n",
       "    }\n",
       "</style>\n",
       "<table border=\"1\" class=\"dataframe\">\n",
       "  <thead>\n",
       "    <tr style=\"text-align: right;\">\n",
       "      <th></th>\n",
       "      <th>PassengerId</th>\n",
       "      <th>Survived</th>\n",
       "      <th>Pclass</th>\n",
       "      <th>Age</th>\n",
       "      <th>SibSp</th>\n",
       "      <th>Parch</th>\n",
       "      <th>Fare</th>\n",
       "    </tr>\n",
       "  </thead>\n",
       "  <tbody>\n",
       "    <tr>\n",
       "      <th>count</th>\n",
       "      <td>891.000000</td>\n",
       "      <td>891.000000</td>\n",
       "      <td>891.000000</td>\n",
       "      <td>891.000000</td>\n",
       "      <td>891.000000</td>\n",
       "      <td>891.000000</td>\n",
       "      <td>891.000000</td>\n",
       "    </tr>\n",
       "    <tr>\n",
       "      <th>mean</th>\n",
       "      <td>446.000000</td>\n",
       "      <td>0.383838</td>\n",
       "      <td>2.308642</td>\n",
       "      <td>29.958215</td>\n",
       "      <td>0.523008</td>\n",
       "      <td>0.381594</td>\n",
       "      <td>32.204208</td>\n",
       "    </tr>\n",
       "    <tr>\n",
       "      <th>std</th>\n",
       "      <td>257.353842</td>\n",
       "      <td>0.486592</td>\n",
       "      <td>0.836071</td>\n",
       "      <td>13.688887</td>\n",
       "      <td>1.102743</td>\n",
       "      <td>0.806057</td>\n",
       "      <td>49.693429</td>\n",
       "    </tr>\n",
       "    <tr>\n",
       "      <th>min</th>\n",
       "      <td>1.000000</td>\n",
       "      <td>0.000000</td>\n",
       "      <td>1.000000</td>\n",
       "      <td>0.420000</td>\n",
       "      <td>0.000000</td>\n",
       "      <td>0.000000</td>\n",
       "      <td>0.000000</td>\n",
       "    </tr>\n",
       "    <tr>\n",
       "      <th>25%</th>\n",
       "      <td>223.500000</td>\n",
       "      <td>0.000000</td>\n",
       "      <td>2.000000</td>\n",
       "      <td>22.000000</td>\n",
       "      <td>0.000000</td>\n",
       "      <td>0.000000</td>\n",
       "      <td>7.910400</td>\n",
       "    </tr>\n",
       "    <tr>\n",
       "      <th>50%</th>\n",
       "      <td>446.000000</td>\n",
       "      <td>0.000000</td>\n",
       "      <td>3.000000</td>\n",
       "      <td>29.000000</td>\n",
       "      <td>0.000000</td>\n",
       "      <td>0.000000</td>\n",
       "      <td>14.454200</td>\n",
       "    </tr>\n",
       "    <tr>\n",
       "      <th>75%</th>\n",
       "      <td>668.500000</td>\n",
       "      <td>1.000000</td>\n",
       "      <td>3.000000</td>\n",
       "      <td>39.000000</td>\n",
       "      <td>1.000000</td>\n",
       "      <td>0.000000</td>\n",
       "      <td>31.000000</td>\n",
       "    </tr>\n",
       "    <tr>\n",
       "      <th>max</th>\n",
       "      <td>891.000000</td>\n",
       "      <td>1.000000</td>\n",
       "      <td>3.000000</td>\n",
       "      <td>80.000000</td>\n",
       "      <td>8.000000</td>\n",
       "      <td>6.000000</td>\n",
       "      <td>512.329200</td>\n",
       "    </tr>\n",
       "  </tbody>\n",
       "</table>\n",
       "</div>"
      ],
      "text/plain": [
       "       PassengerId    Survived      Pclass         Age       SibSp  \\\n",
       "count   891.000000  891.000000  891.000000  891.000000  891.000000   \n",
       "mean    446.000000    0.383838    2.308642   29.958215    0.523008   \n",
       "std     257.353842    0.486592    0.836071   13.688887    1.102743   \n",
       "min       1.000000    0.000000    1.000000    0.420000    0.000000   \n",
       "25%     223.500000    0.000000    2.000000   22.000000    0.000000   \n",
       "50%     446.000000    0.000000    3.000000   29.000000    0.000000   \n",
       "75%     668.500000    1.000000    3.000000   39.000000    1.000000   \n",
       "max     891.000000    1.000000    3.000000   80.000000    8.000000   \n",
       "\n",
       "            Parch        Fare  \n",
       "count  891.000000  891.000000  \n",
       "mean     0.381594   32.204208  \n",
       "std      0.806057   49.693429  \n",
       "min      0.000000    0.000000  \n",
       "25%      0.000000    7.910400  \n",
       "50%      0.000000   14.454200  \n",
       "75%      0.000000   31.000000  \n",
       "max      6.000000  512.329200  "
      ]
     },
     "execution_count": 13,
     "metadata": {},
     "output_type": "execute_result"
    }
   ],
   "source": [
    "df.describe()"
   ]
  },
  {
   "cell_type": "code",
   "execution_count": 14,
   "id": "e2c74785",
   "metadata": {
    "execution": {
     "iopub.execute_input": "2025-05-13T04:54:38.039820Z",
     "iopub.status.busy": "2025-05-13T04:54:38.039477Z",
     "iopub.status.idle": "2025-05-13T04:54:38.047588Z",
     "shell.execute_reply": "2025-05-13T04:54:38.046737Z"
    },
    "papermill": {
     "duration": 0.021838,
     "end_time": "2025-05-13T04:54:38.049449",
     "exception": false,
     "start_time": "2025-05-13T04:54:38.027611",
     "status": "completed"
    },
    "tags": []
   },
   "outputs": [
    {
     "data": {
      "text/plain": [
       "PassengerId      int64\n",
       "Survived         int64\n",
       "Pclass           int64\n",
       "Name            object\n",
       "Sex             object\n",
       "Age            float64\n",
       "SibSp            int64\n",
       "Parch            int64\n",
       "Ticket          object\n",
       "Fare           float64\n",
       "Cabin           object\n",
       "Embarked        object\n",
       "Deck            object\n",
       "dtype: object"
      ]
     },
     "execution_count": 14,
     "metadata": {},
     "output_type": "execute_result"
    }
   ],
   "source": [
    "df.dtypes"
   ]
  },
  {
   "cell_type": "code",
   "execution_count": 15,
   "id": "10f85d73",
   "metadata": {
    "execution": {
     "iopub.execute_input": "2025-05-13T04:54:38.073149Z",
     "iopub.status.busy": "2025-05-13T04:54:38.072832Z",
     "iopub.status.idle": "2025-05-13T04:54:38.082984Z",
     "shell.execute_reply": "2025-05-13T04:54:38.082165Z"
    },
    "papermill": {
     "duration": 0.023828,
     "end_time": "2025-05-13T04:54:38.084415",
     "exception": false,
     "start_time": "2025-05-13T04:54:38.060587",
     "status": "completed"
    },
    "tags": []
   },
   "outputs": [
    {
     "data": {
      "text/plain": [
       "Cabin\n",
       "B96 B98        4\n",
       "G6             4\n",
       "C23 C25 C27    4\n",
       "C22 C26        3\n",
       "F33            3\n",
       "              ..\n",
       "E34            1\n",
       "C7             1\n",
       "C54            1\n",
       "E36            1\n",
       "C148           1\n",
       "Name: count, Length: 147, dtype: int64"
      ]
     },
     "execution_count": 15,
     "metadata": {},
     "output_type": "execute_result"
    }
   ],
   "source": [
    "df['Cabin'].value_counts()"
   ]
  },
  {
   "cell_type": "code",
   "execution_count": 16,
   "id": "696aa3ba",
   "metadata": {
    "execution": {
     "iopub.execute_input": "2025-05-13T04:54:38.109328Z",
     "iopub.status.busy": "2025-05-13T04:54:38.108485Z",
     "iopub.status.idle": "2025-05-13T04:54:39.487061Z",
     "shell.execute_reply": "2025-05-13T04:54:39.485412Z"
    },
    "papermill": {
     "duration": 1.393673,
     "end_time": "2025-05-13T04:54:39.489103",
     "exception": false,
     "start_time": "2025-05-13T04:54:38.095430",
     "status": "completed"
    },
    "tags": []
   },
   "outputs": [
    {
     "data": {
      "image/png": "[encoded data removed]",
      "text/plain": [
       "<Figure size 800x400 with 1 Axes>"
      ]
     },
     "metadata": {},
     "output_type": "display_data"
    },
    {
     "data": {
      "image/png": "[encoded data removed]",
      "text/plain": [
       "<Figure size 800x400 with 1 Axes>"
      ]
     },
     "metadata": {},
     "output_type": "display_data"
    }
   ],
   "source": [
    "import seaborn as sns\n",
    "import matplotlib.pyplot as plt\n",
    "for col in ['Sex','Embarked']:\n",
    "    \n",
    "        plt.figure(figsize=(8,4))\n",
    "        sns.barplot(x=col,y='Survived',data = df)\n",
    "        plt.title(f'Barplot of {col}')\n",
    "        plt.xticks(rotation=45)\n",
    "        plt.tight_layout()\n",
    "        plt.show"
   ]
  },
  {
   "cell_type": "code",
   "execution_count": null,
   "id": "788d781d",
   "metadata": {
    "papermill": {
     "duration": 0.011625,
     "end_time": "2025-05-13T04:54:39.580815",
     "exception": false,
     "start_time": "2025-05-13T04:54:39.569190",
     "status": "completed"
    },
    "tags": []
   },
   "outputs": [],
   "source": []
  },
  {
   "cell_type": "code",
   "execution_count": 17,
   "id": "ae555d47",
   "metadata": {
    "execution": {
     "iopub.execute_input": "2025-05-13T04:54:39.607632Z",
     "iopub.status.busy": "2025-05-13T04:54:39.607147Z",
     "iopub.status.idle": "2025-05-13T04:54:39.614592Z",
     "shell.execute_reply": "2025-05-13T04:54:39.613616Z"
    },
    "papermill": {
     "duration": 0.023175,
     "end_time": "2025-05-13T04:54:39.616554",
     "exception": false,
     "start_time": "2025-05-13T04:54:39.593379",
     "status": "completed"
    },
    "tags": []
   },
   "outputs": [],
   "source": [
    "#extracting title from name\n",
    "\n",
    "df['Title'] = df['Name'].str.extract('([A-Za-z]+)\\.',expand=False)\n"
   ]
  },
  {
   "cell_type": "code",
   "execution_count": 18,
   "id": "9f343002",
   "metadata": {
    "execution": {
     "iopub.execute_input": "2025-05-13T04:54:39.643192Z",
     "iopub.status.busy": "2025-05-13T04:54:39.642722Z",
     "iopub.status.idle": "2025-05-13T04:54:39.652576Z",
     "shell.execute_reply": "2025-05-13T04:54:39.650412Z"
    },
    "papermill": {
     "duration": 0.026491,
     "end_time": "2025-05-13T04:54:39.655099",
     "exception": false,
     "start_time": "2025-05-13T04:54:39.628608",
     "status": "completed"
    },
    "tags": []
   },
   "outputs": [
    {
     "data": {
      "text/plain": [
       "Index(['PassengerId', 'Survived', 'Pclass', 'Name', 'Sex', 'Age', 'SibSp',\n",
       "       'Parch', 'Ticket', 'Fare', 'Cabin', 'Embarked', 'Deck', 'Title'],\n",
       "      dtype='object')"
      ]
     },
     "execution_count": 18,
     "metadata": {},
     "output_type": "execute_result"
    }
   ],
   "source": [
    "df.columns"
   ]
  },
  {
   "cell_type": "code",
   "execution_count": 19,
   "id": "1aea427e",
   "metadata": {
    "execution": {
     "iopub.execute_input": "2025-05-13T04:54:39.681694Z",
     "iopub.status.busy": "2025-05-13T04:54:39.681352Z",
     "iopub.status.idle": "2025-05-13T04:54:39.692178Z",
     "shell.execute_reply": "2025-05-13T04:54:39.691114Z"
    },
    "papermill": {
     "duration": 0.026659,
     "end_time": "2025-05-13T04:54:39.694477",
     "exception": false,
     "start_time": "2025-05-13T04:54:39.667818",
     "status": "completed"
    },
    "tags": []
   },
   "outputs": [],
   "source": [
    "#use classifier to find missing vallues in deck (for cabin)\n",
    "\n",
    "train_deck = df[df['Deck'].notnull()].copy()\n",
    "\n",
    "test_deck = df[df['Deck'].isnull()].copy()"
   ]
  },
  {
   "cell_type": "code",
   "execution_count": 20,
   "id": "435fe6cb",
   "metadata": {
    "execution": {
     "iopub.execute_input": "2025-05-13T04:54:39.721201Z",
     "iopub.status.busy": "2025-05-13T04:54:39.720880Z",
     "iopub.status.idle": "2025-05-13T04:54:39.790934Z",
     "shell.execute_reply": "2025-05-13T04:54:39.789426Z"
    },
    "papermill": {
     "duration": 0.085658,
     "end_time": "2025-05-13T04:54:39.793267",
     "exception": false,
     "start_time": "2025-05-13T04:54:39.707609",
     "status": "completed"
    },
    "tags": []
   },
   "outputs": [],
   "source": [
    "#encoding categorical values into numerical\n",
    "\n",
    "from sklearn.tree import DecisionTreeClassifier\n",
    "\n",
    "train_deck['Title'] = train_deck['Title'].astype('category').cat.codes\n",
    "train_deck['Sex'] = train_deck['Sex'].astype('category').cat.codes\n",
    "train_deck['Embarked'] = train_deck['Embarked'].astype('category').cat.codes\n",
    "\n",
    "\n"
   ]
  },
  {
   "cell_type": "code",
   "execution_count": 21,
   "id": "611976b0",
   "metadata": {
    "execution": {
     "iopub.execute_input": "2025-05-13T04:54:39.820857Z",
     "iopub.status.busy": "2025-05-13T04:54:39.820498Z",
     "iopub.status.idle": "2025-05-13T04:54:39.841060Z",
     "shell.execute_reply": "2025-05-13T04:54:39.839645Z"
    },
    "papermill": {
     "duration": 0.036218,
     "end_time": "2025-05-13T04:54:39.843279",
     "exception": false,
     "start_time": "2025-05-13T04:54:39.807061",
     "status": "completed"
    },
    "tags": []
   },
   "outputs": [
    {
     "data": {
      "text/html": [
       "<style>#sk-container-id-1 {color: black;background-color: white;}#sk-container-id-1 pre{padding: 0;}#sk-container-id-1 div.sk-toggleable {background-color: white;}#sk-container-id-1 label.sk-toggleable__label {cursor: pointer;display: block;width: 100%;margin-bottom: 0;padding: 0.3em;box-sizing: border-box;text-align: center;}#sk-container-id-1 label.sk-toggleable__label-arrow:before {content: \"▸\";float: left;margin-right: 0.25em;color: #696969;}#sk-container-id-1 label.sk-toggleable__label-arrow:hover:before {color: black;}#sk-container-id-1 div.sk-estimator:hover label.sk-toggleable__label-arrow:before {color: black;}#sk-container-id-1 div.sk-toggleable__content {max-height: 0;max-width: 0;overflow: hidden;text-align: left;background-color: #f0f8ff;}#sk-container-id-1 div.sk-toggleable__content pre {margin: 0.2em;color: black;border-radius: 0.25em;background-color: #f0f8ff;}#sk-container-id-1 input.sk-toggleable__control:checked~div.sk-toggleable__content {max-height: 200px;max-width: 100%;overflow: auto;}#sk-container-id-1 input.sk-toggleable__control:checked~label.sk-toggleable__label-arrow:before {content: \"▾\";}#sk-container-id-1 div.sk-estimator input.sk-toggleable__control:checked~label.sk-toggleable__label {background-color: #d4ebff;}#sk-container-id-1 div.sk-label input.sk-toggleable__control:checked~label.sk-toggleable__label {background-color: #d4ebff;}#sk-container-id-1 input.sk-hidden--visually {border: 0;clip: rect(1px 1px 1px 1px);clip: rect(1px, 1px, 1px, 1px);height: 1px;margin: -1px;overflow: hidden;padding: 0;position: absolute;width: 1px;}#sk-container-id-1 div.sk-estimator {font-family: monospace;background-color: #f0f8ff;border: 1px dotted black;border-radius: 0.25em;box-sizing: border-box;margin-bottom: 0.5em;}#sk-container-id-1 div.sk-estimator:hover {background-color: #d4ebff;}#sk-container-id-1 div.sk-parallel-item::after {content: \"\";width: 100%;border-bottom: 1px solid gray;flex-grow: 1;}#sk-container-id-1 div.sk-label:hover label.sk-toggleable__label {background-color: #d4ebff;}#sk-container-id-1 div.sk-serial::before {content: \"\";position: absolute;border-left: 1px solid gray;box-sizing: border-box;top: 0;bottom: 0;left: 50%;z-index: 0;}#sk-container-id-1 div.sk-serial {display: flex;flex-direction: column;align-items: center;background-color: white;padding-right: 0.2em;padding-left: 0.2em;position: relative;}#sk-container-id-1 div.sk-item {position: relative;z-index: 1;}#sk-container-id-1 div.sk-parallel {display: flex;align-items: stretch;justify-content: center;background-color: white;position: relative;}#sk-container-id-1 div.sk-item::before, #sk-container-id-1 div.sk-parallel-item::before {content: \"\";position: absolute;border-left: 1px solid gray;box-sizing: border-box;top: 0;bottom: 0;left: 50%;z-index: -1;}#sk-container-id-1 div.sk-parallel-item {display: flex;flex-direction: column;z-index: 1;position: relative;background-color: white;}#sk-container-id-1 div.sk-parallel-item:first-child::after {align-self: flex-end;width: 50%;}#sk-container-id-1 div.sk-parallel-item:last-child::after {align-self: flex-start;width: 50%;}#sk-container-id-1 div.sk-parallel-item:only-child::after {width: 0;}#sk-container-id-1 div.sk-dashed-wrapped {border: 1px dashed gray;margin: 0 0.4em 0.5em 0.4em;box-sizing: border-box;padding-bottom: 0.4em;background-color: white;}#sk-container-id-1 div.sk-label label {font-family: monospace;font-weight: bold;display: inline-block;line-height: 1.2em;}#sk-container-id-1 div.sk-label-container {text-align: center;}#sk-container-id-1 div.sk-container {/* jupyter's `normalize.less` sets `[hidden] { display: none; }` but bootstrap.min.css set `[hidden] { display: none !important; }` so we also need the `!important` here to be able to override the default hidden behavior on the sphinx rendered scikit-learn.org. See: https://github.com/scikit-learn/scikit-learn/issues/21755 */display: inline-block !important;position: relative;}#sk-container-id-1 div.sk-text-repr-fallback {display: none;}</style><div id=\"sk-container-id-1\" class=\"sk-top-container\"><div class=\"sk-text-repr-fallback\"><pre>DecisionTreeClassifier(max_depth=4)</pre><b>In a Jupyter environment, please rerun this cell to show the HTML representation or trust the notebook. <br />On GitHub, the HTML representation is unable to render, please try loading this page with nbviewer.org.</b></div><div class=\"sk-container\" hidden><div class=\"sk-item\"><div class=\"sk-estimator sk-toggleable\"><input class=\"sk-toggleable__control sk-hidden--visually\" id=\"sk-estimator-id-1\" type=\"checkbox\" checked><label for=\"sk-estimator-id-1\" class=\"sk-toggleable__label sk-toggleable__label-arrow\">DecisionTreeClassifier</label><div class=\"sk-toggleable__content\"><pre>DecisionTreeClassifier(max_depth=4)</pre></div></div></div></div></div>"
      ],
      "text/plain": [
       "DecisionTreeClassifier(max_depth=4)"
      ]
     },
     "execution_count": 21,
     "metadata": {},
     "output_type": "execute_result"
    }
   ],
   "source": [
    "#training a classifier for deck predicition using Pclass, SibSp,Sex,Parch, Title\n",
    "\n",
    "features_for_deck = ['Pclass','SibSp','Sex','Parch','Title']\n",
    "X_train = train_deck[features_for_deck]\n",
    "y_train = train_deck['Deck']\n",
    "\n",
    "model = DecisionTreeClassifier(max_depth=4)\n",
    "\n",
    "model.fit(X_train,y_train)"
   ]
  },
  {
   "cell_type": "code",
   "execution_count": 22,
   "id": "29b3a0be",
   "metadata": {
    "execution": {
     "iopub.execute_input": "2025-05-13T04:54:39.871699Z",
     "iopub.status.busy": "2025-05-13T04:54:39.870668Z",
     "iopub.status.idle": "2025-05-13T04:54:39.880724Z",
     "shell.execute_reply": "2025-05-13T04:54:39.879596Z"
    },
    "papermill": {
     "duration": 0.025221,
     "end_time": "2025-05-13T04:54:39.882581",
     "exception": false,
     "start_time": "2025-05-13T04:54:39.857360",
     "status": "completed"
    },
    "tags": []
   },
   "outputs": [],
   "source": [
    "test_deck['Title'] = test_deck['Title'].astype('category').cat.codes\n",
    "test_deck['Sex'] = test_deck['Sex'].astype('category').cat.codes\n",
    "test_deck['Embarked'] = test_deck['Embarked'].astype('category').cat.codes"
   ]
  },
  {
   "cell_type": "code",
   "execution_count": 23,
   "id": "461d4363",
   "metadata": {
    "execution": {
     "iopub.execute_input": "2025-05-13T04:54:39.909686Z",
     "iopub.status.busy": "2025-05-13T04:54:39.909337Z",
     "iopub.status.idle": "2025-05-13T04:54:39.917026Z",
     "shell.execute_reply": "2025-05-13T04:54:39.915928Z"
    },
    "papermill": {
     "duration": 0.022996,
     "end_time": "2025-05-13T04:54:39.918650",
     "exception": false,
     "start_time": "2025-05-13T04:54:39.895654",
     "status": "completed"
    },
    "tags": []
   },
   "outputs": [],
   "source": [
    "#predicting deck for unknown decks\n",
    "\n",
    "X_test = test_deck[features_for_deck]\n",
    "\n",
    "y_pred = model.predict(X_test)"
   ]
  },
  {
   "cell_type": "code",
   "execution_count": 24,
   "id": "26f50036",
   "metadata": {
    "execution": {
     "iopub.execute_input": "2025-05-13T04:54:39.945260Z",
     "iopub.status.busy": "2025-05-13T04:54:39.944933Z",
     "iopub.status.idle": "2025-05-13T04:54:39.950879Z",
     "shell.execute_reply": "2025-05-13T04:54:39.950050Z"
    },
    "papermill": {
     "duration": 0.021184,
     "end_time": "2025-05-13T04:54:39.952434",
     "exception": false,
     "start_time": "2025-05-13T04:54:39.931250",
     "status": "completed"
    },
    "tags": []
   },
   "outputs": [],
   "source": [
    "#replacing original dataframe null values with predicted deck values\n",
    "df.loc[df['Deck'].isnull(),'Deck'] = y_pred\n"
   ]
  },
  {
   "cell_type": "code",
   "execution_count": 25,
   "id": "aa56b0e9",
   "metadata": {
    "execution": {
     "iopub.execute_input": "2025-05-13T04:54:39.978735Z",
     "iopub.status.busy": "2025-05-13T04:54:39.978392Z",
     "iopub.status.idle": "2025-05-13T04:54:39.988292Z",
     "shell.execute_reply": "2025-05-13T04:54:39.987136Z"
    },
    "papermill": {
     "duration": 0.025027,
     "end_time": "2025-05-13T04:54:39.990392",
     "exception": false,
     "start_time": "2025-05-13T04:54:39.965365",
     "status": "completed"
    },
    "tags": []
   },
   "outputs": [
    {
     "data": {
      "text/plain": [
       "PassengerId      0\n",
       "Survived         0\n",
       "Pclass           0\n",
       "Name             0\n",
       "Sex              0\n",
       "Age              0\n",
       "SibSp            0\n",
       "Parch            0\n",
       "Ticket           0\n",
       "Fare             0\n",
       "Cabin          687\n",
       "Embarked         0\n",
       "Deck             0\n",
       "Title            0\n",
       "dtype: int64"
      ]
     },
     "execution_count": 25,
     "metadata": {},
     "output_type": "execute_result"
    }
   ],
   "source": [
    "df.isnull().sum()"
   ]
  },
  {
   "cell_type": "code",
   "execution_count": 26,
   "id": "95576a0d",
   "metadata": {
    "execution": {
     "iopub.execute_input": "2025-05-13T04:54:40.016577Z",
     "iopub.status.busy": "2025-05-13T04:54:40.016260Z",
     "iopub.status.idle": "2025-05-13T04:54:40.022268Z",
     "shell.execute_reply": "2025-05-13T04:54:40.021406Z"
    },
    "papermill": {
     "duration": 0.021293,
     "end_time": "2025-05-13T04:54:40.024184",
     "exception": false,
     "start_time": "2025-05-13T04:54:40.002891",
     "status": "completed"
    },
    "tags": []
   },
   "outputs": [],
   "source": [
    "#drop cabin as we no longer need it\n",
    "\n",
    "df.drop('Cabin',axis=1,inplace=True)"
   ]
  },
  {
   "cell_type": "code",
   "execution_count": 27,
   "id": "8131f07c",
   "metadata": {
    "execution": {
     "iopub.execute_input": "2025-05-13T04:54:40.053201Z",
     "iopub.status.busy": "2025-05-13T04:54:40.052407Z",
     "iopub.status.idle": "2025-05-13T04:54:40.071598Z",
     "shell.execute_reply": "2025-05-13T04:54:40.070182Z"
    },
    "papermill": {
     "duration": 0.035039,
     "end_time": "2025-05-13T04:54:40.073549",
     "exception": false,
     "start_time": "2025-05-13T04:54:40.038510",
     "status": "completed"
    },
    "tags": []
   },
   "outputs": [
    {
     "data": {
      "text/html": [
       "<div>\n",
       "<style scoped>\n",
       "    .dataframe tbody tr th:only-of-type {\n",
       "        vertical-align: middle;\n",
       "    }\n",
       "\n",
       "    .dataframe tbody tr th {\n",
       "        vertical-align: top;\n",
       "    }\n",
       "\n",
       "    .dataframe thead th {\n",
       "        text-align: right;\n",
       "    }\n",
       "</style>\n",
       "<table border=\"1\" class=\"dataframe\">\n",
       "  <thead>\n",
       "    <tr style=\"text-align: right;\">\n",
       "      <th></th>\n",
       "      <th>PassengerId</th>\n",
       "      <th>Survived</th>\n",
       "      <th>Pclass</th>\n",
       "      <th>Name</th>\n",
       "      <th>Sex</th>\n",
       "      <th>Age</th>\n",
       "      <th>SibSp</th>\n",
       "      <th>Parch</th>\n",
       "      <th>Ticket</th>\n",
       "      <th>Fare</th>\n",
       "      <th>Embarked</th>\n",
       "      <th>Deck</th>\n",
       "      <th>Title</th>\n",
       "    </tr>\n",
       "  </thead>\n",
       "  <tbody>\n",
       "    <tr>\n",
       "      <th>0</th>\n",
       "      <td>1</td>\n",
       "      <td>0</td>\n",
       "      <td>3</td>\n",
       "      <td>Braund, Mr. Owen Harris</td>\n",
       "      <td>male</td>\n",
       "      <td>22.0</td>\n",
       "      <td>1</td>\n",
       "      <td>0</td>\n",
       "      <td>A/5 21171</td>\n",
       "      <td>7.2500</td>\n",
       "      <td>S</td>\n",
       "      <td>F</td>\n",
       "      <td>Mr</td>\n",
       "    </tr>\n",
       "    <tr>\n",
       "      <th>1</th>\n",
       "      <td>2</td>\n",
       "      <td>1</td>\n",
       "      <td>1</td>\n",
       "      <td>Cumings, Mrs. John Bradley (Florence Briggs Th...</td>\n",
       "      <td>female</td>\n",
       "      <td>38.0</td>\n",
       "      <td>1</td>\n",
       "      <td>0</td>\n",
       "      <td>PC 17599</td>\n",
       "      <td>71.2833</td>\n",
       "      <td>C</td>\n",
       "      <td>C</td>\n",
       "      <td>Mrs</td>\n",
       "    </tr>\n",
       "    <tr>\n",
       "      <th>2</th>\n",
       "      <td>3</td>\n",
       "      <td>1</td>\n",
       "      <td>3</td>\n",
       "      <td>Heikkinen, Miss. Laina</td>\n",
       "      <td>female</td>\n",
       "      <td>26.0</td>\n",
       "      <td>0</td>\n",
       "      <td>0</td>\n",
       "      <td>STON/O2. 3101282</td>\n",
       "      <td>7.9250</td>\n",
       "      <td>S</td>\n",
       "      <td>E</td>\n",
       "      <td>Miss</td>\n",
       "    </tr>\n",
       "    <tr>\n",
       "      <th>3</th>\n",
       "      <td>4</td>\n",
       "      <td>1</td>\n",
       "      <td>1</td>\n",
       "      <td>Futrelle, Mrs. Jacques Heath (Lily May Peel)</td>\n",
       "      <td>female</td>\n",
       "      <td>35.0</td>\n",
       "      <td>1</td>\n",
       "      <td>0</td>\n",
       "      <td>113803</td>\n",
       "      <td>53.1000</td>\n",
       "      <td>S</td>\n",
       "      <td>C</td>\n",
       "      <td>Mrs</td>\n",
       "    </tr>\n",
       "    <tr>\n",
       "      <th>4</th>\n",
       "      <td>5</td>\n",
       "      <td>0</td>\n",
       "      <td>3</td>\n",
       "      <td>Allen, Mr. William Henry</td>\n",
       "      <td>male</td>\n",
       "      <td>35.0</td>\n",
       "      <td>0</td>\n",
       "      <td>0</td>\n",
       "      <td>373450</td>\n",
       "      <td>8.0500</td>\n",
       "      <td>S</td>\n",
       "      <td>E</td>\n",
       "      <td>Mr</td>\n",
       "    </tr>\n",
       "    <tr>\n",
       "      <th>...</th>\n",
       "      <td>...</td>\n",
       "      <td>...</td>\n",
       "      <td>...</td>\n",
       "      <td>...</td>\n",
       "      <td>...</td>\n",
       "      <td>...</td>\n",
       "      <td>...</td>\n",
       "      <td>...</td>\n",
       "      <td>...</td>\n",
       "      <td>...</td>\n",
       "      <td>...</td>\n",
       "      <td>...</td>\n",
       "      <td>...</td>\n",
       "    </tr>\n",
       "    <tr>\n",
       "      <th>886</th>\n",
       "      <td>887</td>\n",
       "      <td>0</td>\n",
       "      <td>2</td>\n",
       "      <td>Montvila, Rev. Juozas</td>\n",
       "      <td>male</td>\n",
       "      <td>27.0</td>\n",
       "      <td>0</td>\n",
       "      <td>0</td>\n",
       "      <td>211536</td>\n",
       "      <td>13.0000</td>\n",
       "      <td>S</td>\n",
       "      <td>D</td>\n",
       "      <td>Rev</td>\n",
       "    </tr>\n",
       "    <tr>\n",
       "      <th>887</th>\n",
       "      <td>888</td>\n",
       "      <td>1</td>\n",
       "      <td>1</td>\n",
       "      <td>Graham, Miss. Margaret Edith</td>\n",
       "      <td>female</td>\n",
       "      <td>19.0</td>\n",
       "      <td>0</td>\n",
       "      <td>0</td>\n",
       "      <td>112053</td>\n",
       "      <td>30.0000</td>\n",
       "      <td>S</td>\n",
       "      <td>B</td>\n",
       "      <td>Miss</td>\n",
       "    </tr>\n",
       "    <tr>\n",
       "      <th>888</th>\n",
       "      <td>889</td>\n",
       "      <td>0</td>\n",
       "      <td>3</td>\n",
       "      <td>Johnston, Miss. Catherine Helen \"Carrie\"</td>\n",
       "      <td>female</td>\n",
       "      <td>10.0</td>\n",
       "      <td>1</td>\n",
       "      <td>2</td>\n",
       "      <td>W./C. 6607</td>\n",
       "      <td>23.4500</td>\n",
       "      <td>S</td>\n",
       "      <td>F</td>\n",
       "      <td>Miss</td>\n",
       "    </tr>\n",
       "    <tr>\n",
       "      <th>889</th>\n",
       "      <td>890</td>\n",
       "      <td>1</td>\n",
       "      <td>1</td>\n",
       "      <td>Behr, Mr. Karl Howell</td>\n",
       "      <td>male</td>\n",
       "      <td>26.0</td>\n",
       "      <td>0</td>\n",
       "      <td>0</td>\n",
       "      <td>111369</td>\n",
       "      <td>30.0000</td>\n",
       "      <td>C</td>\n",
       "      <td>C</td>\n",
       "      <td>Mr</td>\n",
       "    </tr>\n",
       "    <tr>\n",
       "      <th>890</th>\n",
       "      <td>891</td>\n",
       "      <td>0</td>\n",
       "      <td>3</td>\n",
       "      <td>Dooley, Mr. Patrick</td>\n",
       "      <td>male</td>\n",
       "      <td>32.0</td>\n",
       "      <td>0</td>\n",
       "      <td>0</td>\n",
       "      <td>370376</td>\n",
       "      <td>7.7500</td>\n",
       "      <td>Q</td>\n",
       "      <td>E</td>\n",
       "      <td>Mr</td>\n",
       "    </tr>\n",
       "  </tbody>\n",
       "</table>\n",
       "<p>891 rows × 13 columns</p>\n",
       "</div>"
      ],
      "text/plain": [
       "     PassengerId  Survived  Pclass  \\\n",
       "0              1         0       3   \n",
       "1              2         1       1   \n",
       "2              3         1       3   \n",
       "3              4         1       1   \n",
       "4              5         0       3   \n",
       "..           ...       ...     ...   \n",
       "886          887         0       2   \n",
       "887          888         1       1   \n",
       "888          889         0       3   \n",
       "889          890         1       1   \n",
       "890          891         0       3   \n",
       "\n",
       "                                                  Name     Sex   Age  SibSp  \\\n",
       "0                              Braund, Mr. Owen Harris    male  22.0      1   \n",
       "1    Cumings, Mrs. John Bradley (Florence Briggs Th...  female  38.0      1   \n",
       "2                               Heikkinen, Miss. Laina  female  26.0      0   \n",
       "3         Futrelle, Mrs. Jacques Heath (Lily May Peel)  female  35.0      1   \n",
       "4                             Allen, Mr. William Henry    male  35.0      0   \n",
       "..                                                 ...     ...   ...    ...   \n",
       "886                              Montvila, Rev. Juozas    male  27.0      0   \n",
       "887                       Graham, Miss. Margaret Edith  female  19.0      0   \n",
       "888           Johnston, Miss. Catherine Helen \"Carrie\"  female  10.0      1   \n",
       "889                              Behr, Mr. Karl Howell    male  26.0      0   \n",
       "890                                Dooley, Mr. Patrick    male  32.0      0   \n",
       "\n",
       "     Parch            Ticket     Fare Embarked Deck Title  \n",
       "0        0         A/5 21171   7.2500        S    F    Mr  \n",
       "1        0          PC 17599  71.2833        C    C   Mrs  \n",
       "2        0  STON/O2. 3101282   7.9250        S    E  Miss  \n",
       "3        0            113803  53.1000        S    C   Mrs  \n",
       "4        0            373450   8.0500        S    E    Mr  \n",
       "..     ...               ...      ...      ...  ...   ...  \n",
       "886      0            211536  13.0000        S    D   Rev  \n",
       "887      0            112053  30.0000        S    B  Miss  \n",
       "888      2        W./C. 6607  23.4500        S    F  Miss  \n",
       "889      0            111369  30.0000        C    C    Mr  \n",
       "890      0            370376   7.7500        Q    E    Mr  \n",
       "\n",
       "[891 rows x 13 columns]"
      ]
     },
     "execution_count": 27,
     "metadata": {},
     "output_type": "execute_result"
    }
   ],
   "source": [
    "df"
   ]
  },
  {
   "cell_type": "code",
   "execution_count": 28,
   "id": "8d323a87",
   "metadata": {
    "execution": {
     "iopub.execute_input": "2025-05-13T04:54:40.100619Z",
     "iopub.status.busy": "2025-05-13T04:54:40.100260Z",
     "iopub.status.idle": "2025-05-13T04:54:40.109777Z",
     "shell.execute_reply": "2025-05-13T04:54:40.108830Z"
    },
    "papermill": {
     "duration": 0.024922,
     "end_time": "2025-05-13T04:54:40.111404",
     "exception": false,
     "start_time": "2025-05-13T04:54:40.086482",
     "status": "completed"
    },
    "tags": []
   },
   "outputs": [
    {
     "data": {
      "text/plain": [
       "Deck\n",
       "E    478\n",
       "F    210\n",
       "C     90\n",
       "B     55\n",
       "D     38\n",
       "A     15\n",
       "G      4\n",
       "T      1\n",
       "Name: count, dtype: int64"
      ]
     },
     "execution_count": 28,
     "metadata": {},
     "output_type": "execute_result"
    }
   ],
   "source": [
    "df['Deck'].value_counts()"
   ]
  },
  {
   "cell_type": "code",
   "execution_count": 29,
   "id": "837cb6a4",
   "metadata": {
    "execution": {
     "iopub.execute_input": "2025-05-13T04:54:40.142338Z",
     "iopub.status.busy": "2025-05-13T04:54:40.141986Z",
     "iopub.status.idle": "2025-05-13T04:54:40.149476Z",
     "shell.execute_reply": "2025-05-13T04:54:40.148086Z"
    },
    "papermill": {
     "duration": 0.026256,
     "end_time": "2025-05-13T04:54:40.152323",
     "exception": false,
     "start_time": "2025-05-13T04:54:40.126067",
     "status": "completed"
    },
    "tags": []
   },
   "outputs": [],
   "source": [
    "#drop name\n",
    "df.drop(['Name'], axis=1,inplace=True)\n"
   ]
  },
  {
   "cell_type": "code",
   "execution_count": 30,
   "id": "b50272cd",
   "metadata": {
    "execution": {
     "iopub.execute_input": "2025-05-13T04:54:40.180462Z",
     "iopub.status.busy": "2025-05-13T04:54:40.180119Z",
     "iopub.status.idle": "2025-05-13T04:54:40.193378Z",
     "shell.execute_reply": "2025-05-13T04:54:40.192467Z"
    },
    "papermill": {
     "duration": 0.02919,
     "end_time": "2025-05-13T04:54:40.195006",
     "exception": false,
     "start_time": "2025-05-13T04:54:40.165816",
     "status": "completed"
    },
    "tags": []
   },
   "outputs": [
    {
     "data": {
      "text/html": [
       "<div>\n",
       "<style scoped>\n",
       "    .dataframe tbody tr th:only-of-type {\n",
       "        vertical-align: middle;\n",
       "    }\n",
       "\n",
       "    .dataframe tbody tr th {\n",
       "        vertical-align: top;\n",
       "    }\n",
       "\n",
       "    .dataframe thead th {\n",
       "        text-align: right;\n",
       "    }\n",
       "</style>\n",
       "<table border=\"1\" class=\"dataframe\">\n",
       "  <thead>\n",
       "    <tr style=\"text-align: right;\">\n",
       "      <th></th>\n",
       "      <th>PassengerId</th>\n",
       "      <th>Survived</th>\n",
       "      <th>Pclass</th>\n",
       "      <th>Sex</th>\n",
       "      <th>Age</th>\n",
       "      <th>SibSp</th>\n",
       "      <th>Parch</th>\n",
       "      <th>Ticket</th>\n",
       "      <th>Fare</th>\n",
       "      <th>Embarked</th>\n",
       "      <th>Deck</th>\n",
       "      <th>Title</th>\n",
       "    </tr>\n",
       "  </thead>\n",
       "  <tbody>\n",
       "    <tr>\n",
       "      <th>0</th>\n",
       "      <td>1</td>\n",
       "      <td>0</td>\n",
       "      <td>3</td>\n",
       "      <td>male</td>\n",
       "      <td>22.0</td>\n",
       "      <td>1</td>\n",
       "      <td>0</td>\n",
       "      <td>A/5 21171</td>\n",
       "      <td>7.2500</td>\n",
       "      <td>S</td>\n",
       "      <td>F</td>\n",
       "      <td>Mr</td>\n",
       "    </tr>\n",
       "    <tr>\n",
       "      <th>1</th>\n",
       "      <td>2</td>\n",
       "      <td>1</td>\n",
       "      <td>1</td>\n",
       "      <td>female</td>\n",
       "      <td>38.0</td>\n",
       "      <td>1</td>\n",
       "      <td>0</td>\n",
       "      <td>PC 17599</td>\n",
       "      <td>71.2833</td>\n",
       "      <td>C</td>\n",
       "      <td>C</td>\n",
       "      <td>Mrs</td>\n",
       "    </tr>\n",
       "    <tr>\n",
       "      <th>2</th>\n",
       "      <td>3</td>\n",
       "      <td>1</td>\n",
       "      <td>3</td>\n",
       "      <td>female</td>\n",
       "      <td>26.0</td>\n",
       "      <td>0</td>\n",
       "      <td>0</td>\n",
       "      <td>STON/O2. 3101282</td>\n",
       "      <td>7.9250</td>\n",
       "      <td>S</td>\n",
       "      <td>E</td>\n",
       "      <td>Miss</td>\n",
       "    </tr>\n",
       "    <tr>\n",
       "      <th>3</th>\n",
       "      <td>4</td>\n",
       "      <td>1</td>\n",
       "      <td>1</td>\n",
       "      <td>female</td>\n",
       "      <td>35.0</td>\n",
       "      <td>1</td>\n",
       "      <td>0</td>\n",
       "      <td>113803</td>\n",
       "      <td>53.1000</td>\n",
       "      <td>S</td>\n",
       "      <td>C</td>\n",
       "      <td>Mrs</td>\n",
       "    </tr>\n",
       "    <tr>\n",
       "      <th>4</th>\n",
       "      <td>5</td>\n",
       "      <td>0</td>\n",
       "      <td>3</td>\n",
       "      <td>male</td>\n",
       "      <td>35.0</td>\n",
       "      <td>0</td>\n",
       "      <td>0</td>\n",
       "      <td>373450</td>\n",
       "      <td>8.0500</td>\n",
       "      <td>S</td>\n",
       "      <td>E</td>\n",
       "      <td>Mr</td>\n",
       "    </tr>\n",
       "  </tbody>\n",
       "</table>\n",
       "</div>"
      ],
      "text/plain": [
       "   PassengerId  Survived  Pclass     Sex   Age  SibSp  Parch  \\\n",
       "0            1         0       3    male  22.0      1      0   \n",
       "1            2         1       1  female  38.0      1      0   \n",
       "2            3         1       3  female  26.0      0      0   \n",
       "3            4         1       1  female  35.0      1      0   \n",
       "4            5         0       3    male  35.0      0      0   \n",
       "\n",
       "             Ticket     Fare Embarked Deck Title  \n",
       "0         A/5 21171   7.2500        S    F    Mr  \n",
       "1          PC 17599  71.2833        C    C   Mrs  \n",
       "2  STON/O2. 3101282   7.9250        S    E  Miss  \n",
       "3            113803  53.1000        S    C   Mrs  \n",
       "4            373450   8.0500        S    E    Mr  "
      ]
     },
     "execution_count": 30,
     "metadata": {},
     "output_type": "execute_result"
    }
   ],
   "source": [
    "df.head()"
   ]
  },
  {
   "cell_type": "code",
   "execution_count": 31,
   "id": "dbceb0aa",
   "metadata": {
    "execution": {
     "iopub.execute_input": "2025-05-13T04:54:40.224916Z",
     "iopub.status.busy": "2025-05-13T04:54:40.224484Z",
     "iopub.status.idle": "2025-05-13T04:54:40.231392Z",
     "shell.execute_reply": "2025-05-13T04:54:40.230316Z"
    },
    "papermill": {
     "duration": 0.02561,
     "end_time": "2025-05-13T04:54:40.234061",
     "exception": false,
     "start_time": "2025-05-13T04:54:40.208451",
     "status": "completed"
    },
    "tags": []
   },
   "outputs": [],
   "source": [
    "#categoricla encoding\n",
    "df['Sex'] = df['Sex'].map({'male':0,'female':1})"
   ]
  },
  {
   "cell_type": "code",
   "execution_count": 32,
   "id": "e44c4bf3",
   "metadata": {
    "execution": {
     "iopub.execute_input": "2025-05-13T04:54:40.268489Z",
     "iopub.status.busy": "2025-05-13T04:54:40.268141Z",
     "iopub.status.idle": "2025-05-13T04:54:40.276128Z",
     "shell.execute_reply": "2025-05-13T04:54:40.274416Z"
    },
    "papermill": {
     "duration": 0.028444,
     "end_time": "2025-05-13T04:54:40.278174",
     "exception": false,
     "start_time": "2025-05-13T04:54:40.249730",
     "status": "completed"
    },
    "tags": []
   },
   "outputs": [],
   "source": [
    "df['Embarked'] = df['Embarked'].map({'S':0,'C':1,'Q':2})"
   ]
  },
  {
   "cell_type": "code",
   "execution_count": 33,
   "id": "f30b35a4",
   "metadata": {
    "execution": {
     "iopub.execute_input": "2025-05-13T04:54:40.309745Z",
     "iopub.status.busy": "2025-05-13T04:54:40.309394Z",
     "iopub.status.idle": "2025-05-13T04:54:40.316618Z",
     "shell.execute_reply": "2025-05-13T04:54:40.315433Z"
    },
    "papermill": {
     "duration": 0.025442,
     "end_time": "2025-05-13T04:54:40.318658",
     "exception": false,
     "start_time": "2025-05-13T04:54:40.293216",
     "status": "completed"
    },
    "tags": []
   },
   "outputs": [],
   "source": [
    "df['Deck'] = df['Deck'].astype('category').cat.codes\n"
   ]
  },
  {
   "cell_type": "code",
   "execution_count": 34,
   "id": "15d4dc05",
   "metadata": {
    "execution": {
     "iopub.execute_input": "2025-05-13T04:54:40.346187Z",
     "iopub.status.busy": "2025-05-13T04:54:40.345760Z",
     "iopub.status.idle": "2025-05-13T04:54:40.360160Z",
     "shell.execute_reply": "2025-05-13T04:54:40.358810Z"
    },
    "papermill": {
     "duration": 0.030248,
     "end_time": "2025-05-13T04:54:40.362190",
     "exception": false,
     "start_time": "2025-05-13T04:54:40.331942",
     "status": "completed"
    },
    "tags": []
   },
   "outputs": [
    {
     "data": {
      "text/html": [
       "<div>\n",
       "<style scoped>\n",
       "    .dataframe tbody tr th:only-of-type {\n",
       "        vertical-align: middle;\n",
       "    }\n",
       "\n",
       "    .dataframe tbody tr th {\n",
       "        vertical-align: top;\n",
       "    }\n",
       "\n",
       "    .dataframe thead th {\n",
       "        text-align: right;\n",
       "    }\n",
       "</style>\n",
       "<table border=\"1\" class=\"dataframe\">\n",
       "  <thead>\n",
       "    <tr style=\"text-align: right;\">\n",
       "      <th></th>\n",
       "      <th>PassengerId</th>\n",
       "      <th>Survived</th>\n",
       "      <th>Pclass</th>\n",
       "      <th>Sex</th>\n",
       "      <th>Age</th>\n",
       "      <th>SibSp</th>\n",
       "      <th>Parch</th>\n",
       "      <th>Ticket</th>\n",
       "      <th>Fare</th>\n",
       "      <th>Embarked</th>\n",
       "      <th>Deck</th>\n",
       "      <th>Title</th>\n",
       "    </tr>\n",
       "  </thead>\n",
       "  <tbody>\n",
       "    <tr>\n",
       "      <th>0</th>\n",
       "      <td>1</td>\n",
       "      <td>0</td>\n",
       "      <td>3</td>\n",
       "      <td>0</td>\n",
       "      <td>22.0</td>\n",
       "      <td>1</td>\n",
       "      <td>0</td>\n",
       "      <td>A/5 21171</td>\n",
       "      <td>7.2500</td>\n",
       "      <td>0</td>\n",
       "      <td>5</td>\n",
       "      <td>Mr</td>\n",
       "    </tr>\n",
       "    <tr>\n",
       "      <th>1</th>\n",
       "      <td>2</td>\n",
       "      <td>1</td>\n",
       "      <td>1</td>\n",
       "      <td>1</td>\n",
       "      <td>38.0</td>\n",
       "      <td>1</td>\n",
       "      <td>0</td>\n",
       "      <td>PC 17599</td>\n",
       "      <td>71.2833</td>\n",
       "      <td>1</td>\n",
       "      <td>2</td>\n",
       "      <td>Mrs</td>\n",
       "    </tr>\n",
       "    <tr>\n",
       "      <th>2</th>\n",
       "      <td>3</td>\n",
       "      <td>1</td>\n",
       "      <td>3</td>\n",
       "      <td>1</td>\n",
       "      <td>26.0</td>\n",
       "      <td>0</td>\n",
       "      <td>0</td>\n",
       "      <td>STON/O2. 3101282</td>\n",
       "      <td>7.9250</td>\n",
       "      <td>0</td>\n",
       "      <td>4</td>\n",
       "      <td>Miss</td>\n",
       "    </tr>\n",
       "    <tr>\n",
       "      <th>3</th>\n",
       "      <td>4</td>\n",
       "      <td>1</td>\n",
       "      <td>1</td>\n",
       "      <td>1</td>\n",
       "      <td>35.0</td>\n",
       "      <td>1</td>\n",
       "      <td>0</td>\n",
       "      <td>113803</td>\n",
       "      <td>53.1000</td>\n",
       "      <td>0</td>\n",
       "      <td>2</td>\n",
       "      <td>Mrs</td>\n",
       "    </tr>\n",
       "    <tr>\n",
       "      <th>4</th>\n",
       "      <td>5</td>\n",
       "      <td>0</td>\n",
       "      <td>3</td>\n",
       "      <td>0</td>\n",
       "      <td>35.0</td>\n",
       "      <td>0</td>\n",
       "      <td>0</td>\n",
       "      <td>373450</td>\n",
       "      <td>8.0500</td>\n",
       "      <td>0</td>\n",
       "      <td>4</td>\n",
       "      <td>Mr</td>\n",
       "    </tr>\n",
       "  </tbody>\n",
       "</table>\n",
       "</div>"
      ],
      "text/plain": [
       "   PassengerId  Survived  Pclass  Sex   Age  SibSp  Parch            Ticket  \\\n",
       "0            1         0       3    0  22.0      1      0         A/5 21171   \n",
       "1            2         1       1    1  38.0      1      0          PC 17599   \n",
       "2            3         1       3    1  26.0      0      0  STON/O2. 3101282   \n",
       "3            4         1       1    1  35.0      1      0            113803   \n",
       "4            5         0       3    0  35.0      0      0            373450   \n",
       "\n",
       "      Fare  Embarked  Deck Title  \n",
       "0   7.2500         0     5    Mr  \n",
       "1  71.2833         1     2   Mrs  \n",
       "2   7.9250         0     4  Miss  \n",
       "3  53.1000         0     2   Mrs  \n",
       "4   8.0500         0     4    Mr  "
      ]
     },
     "execution_count": 34,
     "metadata": {},
     "output_type": "execute_result"
    }
   ],
   "source": [
    "df.head()"
   ]
  },
  {
   "cell_type": "code",
   "execution_count": 35,
   "id": "c429fe8c",
   "metadata": {
    "execution": {
     "iopub.execute_input": "2025-05-13T04:54:40.390715Z",
     "iopub.status.busy": "2025-05-13T04:54:40.390331Z",
     "iopub.status.idle": "2025-05-13T04:54:40.401679Z",
     "shell.execute_reply": "2025-05-13T04:54:40.400595Z"
    },
    "papermill": {
     "duration": 0.02817,
     "end_time": "2025-05-13T04:54:40.403448",
     "exception": false,
     "start_time": "2025-05-13T04:54:40.375278",
     "status": "completed"
    },
    "tags": []
   },
   "outputs": [
    {
     "data": {
      "text/plain": [
       "Title\n",
       "Mr          517\n",
       "Miss        182\n",
       "Mrs         125\n",
       "Master       40\n",
       "Dr            7\n",
       "Rev           6\n",
       "Mlle          2\n",
       "Major         2\n",
       "Col           2\n",
       "Countess      1\n",
       "Capt          1\n",
       "Ms            1\n",
       "Sir           1\n",
       "Lady          1\n",
       "Mme           1\n",
       "Don           1\n",
       "Jonkheer      1\n",
       "Name: count, dtype: int64"
      ]
     },
     "execution_count": 35,
     "metadata": {},
     "output_type": "execute_result"
    }
   ],
   "source": [
    "df['Title'].value_counts()"
   ]
  },
  {
   "cell_type": "code",
   "execution_count": 36,
   "id": "d6981a68",
   "metadata": {
    "execution": {
     "iopub.execute_input": "2025-05-13T04:54:40.441140Z",
     "iopub.status.busy": "2025-05-13T04:54:40.440812Z",
     "iopub.status.idle": "2025-05-13T04:54:40.454092Z",
     "shell.execute_reply": "2025-05-13T04:54:40.453100Z"
    },
    "papermill": {
     "duration": 0.03622,
     "end_time": "2025-05-13T04:54:40.456363",
     "exception": false,
     "start_time": "2025-05-13T04:54:40.420143",
     "status": "completed"
    },
    "tags": []
   },
   "outputs": [],
   "source": [
    "#replacing titles meaningfully\n",
    "\n",
    "df['Title'] = df['Title'].replace(['Mlle','Ms'],'Miss')\n",
    "df['Title'] = df['Title'].replace('Mme','Mrs')\n",
    "\n",
    "df['Title'] = df['Title'].replace(['Lady', 'Countess','Capt', 'Col', 'Don', 'Dr', \n",
    "                                   'Major', 'Rev', 'Sir', 'Jonkheer', 'Dona'], 'Rare')"
   ]
  },
  {
   "cell_type": "code",
   "execution_count": 37,
   "id": "812cdce3",
   "metadata": {
    "execution": {
     "iopub.execute_input": "2025-05-13T04:54:40.493415Z",
     "iopub.status.busy": "2025-05-13T04:54:40.493052Z",
     "iopub.status.idle": "2025-05-13T04:54:40.501475Z",
     "shell.execute_reply": "2025-05-13T04:54:40.500264Z"
    },
    "papermill": {
     "duration": 0.030766,
     "end_time": "2025-05-13T04:54:40.503078",
     "exception": false,
     "start_time": "2025-05-13T04:54:40.472312",
     "status": "completed"
    },
    "tags": []
   },
   "outputs": [
    {
     "data": {
      "text/plain": [
       "Title\n",
       "Mr        517\n",
       "Miss      185\n",
       "Mrs       126\n",
       "Master     40\n",
       "Rare       23\n",
       "Name: count, dtype: int64"
      ]
     },
     "execution_count": 37,
     "metadata": {},
     "output_type": "execute_result"
    }
   ],
   "source": [
    "df['Title'].value_counts()"
   ]
  },
  {
   "cell_type": "code",
   "execution_count": 38,
   "id": "a9ae33a2",
   "metadata": {
    "execution": {
     "iopub.execute_input": "2025-05-13T04:54:40.531943Z",
     "iopub.status.busy": "2025-05-13T04:54:40.531614Z",
     "iopub.status.idle": "2025-05-13T04:54:40.538698Z",
     "shell.execute_reply": "2025-05-13T04:54:40.537616Z"
    },
    "papermill": {
     "duration": 0.023315,
     "end_time": "2025-05-13T04:54:40.540475",
     "exception": false,
     "start_time": "2025-05-13T04:54:40.517160",
     "status": "completed"
    },
    "tags": []
   },
   "outputs": [],
   "source": [
    "df['Title'] = df['Title'].astype('category').cat.codes"
   ]
  },
  {
   "cell_type": "code",
   "execution_count": 39,
   "id": "e5204128",
   "metadata": {
    "execution": {
     "iopub.execute_input": "2025-05-13T04:54:40.570247Z",
     "iopub.status.busy": "2025-05-13T04:54:40.569888Z",
     "iopub.status.idle": "2025-05-13T04:54:40.578183Z",
     "shell.execute_reply": "2025-05-13T04:54:40.577089Z"
    },
    "papermill": {
     "duration": 0.025198,
     "end_time": "2025-05-13T04:54:40.579919",
     "exception": false,
     "start_time": "2025-05-13T04:54:40.554721",
     "status": "completed"
    },
    "tags": []
   },
   "outputs": [],
   "source": [
    "df['Family_size'] =  df['SibSp'] + df['Parch']\n",
    "df['Is_Alone'] = (df['Family_size']==0).astype(int)"
   ]
  },
  {
   "cell_type": "code",
   "execution_count": 40,
   "id": "4563a3ec",
   "metadata": {
    "execution": {
     "iopub.execute_input": "2025-05-13T04:54:40.608923Z",
     "iopub.status.busy": "2025-05-13T04:54:40.608611Z",
     "iopub.status.idle": "2025-05-13T04:54:40.622581Z",
     "shell.execute_reply": "2025-05-13T04:54:40.621365Z"
    },
    "papermill": {
     "duration": 0.030984,
     "end_time": "2025-05-13T04:54:40.624299",
     "exception": false,
     "start_time": "2025-05-13T04:54:40.593315",
     "status": "completed"
    },
    "tags": []
   },
   "outputs": [
    {
     "data": {
      "text/html": [
       "<div>\n",
       "<style scoped>\n",
       "    .dataframe tbody tr th:only-of-type {\n",
       "        vertical-align: middle;\n",
       "    }\n",
       "\n",
       "    .dataframe tbody tr th {\n",
       "        vertical-align: top;\n",
       "    }\n",
       "\n",
       "    .dataframe thead th {\n",
       "        text-align: right;\n",
       "    }\n",
       "</style>\n",
       "<table border=\"1\" class=\"dataframe\">\n",
       "  <thead>\n",
       "    <tr style=\"text-align: right;\">\n",
       "      <th></th>\n",
       "      <th>PassengerId</th>\n",
       "      <th>Survived</th>\n",
       "      <th>Pclass</th>\n",
       "      <th>Sex</th>\n",
       "      <th>Age</th>\n",
       "      <th>SibSp</th>\n",
       "      <th>Parch</th>\n",
       "      <th>Ticket</th>\n",
       "      <th>Fare</th>\n",
       "      <th>Embarked</th>\n",
       "      <th>Deck</th>\n",
       "      <th>Title</th>\n",
       "      <th>Family_size</th>\n",
       "      <th>Is_Alone</th>\n",
       "    </tr>\n",
       "  </thead>\n",
       "  <tbody>\n",
       "    <tr>\n",
       "      <th>0</th>\n",
       "      <td>1</td>\n",
       "      <td>0</td>\n",
       "      <td>3</td>\n",
       "      <td>0</td>\n",
       "      <td>22.0</td>\n",
       "      <td>1</td>\n",
       "      <td>0</td>\n",
       "      <td>A/5 21171</td>\n",
       "      <td>7.2500</td>\n",
       "      <td>0</td>\n",
       "      <td>5</td>\n",
       "      <td>2</td>\n",
       "      <td>1</td>\n",
       "      <td>0</td>\n",
       "    </tr>\n",
       "    <tr>\n",
       "      <th>1</th>\n",
       "      <td>2</td>\n",
       "      <td>1</td>\n",
       "      <td>1</td>\n",
       "      <td>1</td>\n",
       "      <td>38.0</td>\n",
       "      <td>1</td>\n",
       "      <td>0</td>\n",
       "      <td>PC 17599</td>\n",
       "      <td>71.2833</td>\n",
       "      <td>1</td>\n",
       "      <td>2</td>\n",
       "      <td>3</td>\n",
       "      <td>1</td>\n",
       "      <td>0</td>\n",
       "    </tr>\n",
       "    <tr>\n",
       "      <th>2</th>\n",
       "      <td>3</td>\n",
       "      <td>1</td>\n",
       "      <td>3</td>\n",
       "      <td>1</td>\n",
       "      <td>26.0</td>\n",
       "      <td>0</td>\n",
       "      <td>0</td>\n",
       "      <td>STON/O2. 3101282</td>\n",
       "      <td>7.9250</td>\n",
       "      <td>0</td>\n",
       "      <td>4</td>\n",
       "      <td>1</td>\n",
       "      <td>0</td>\n",
       "      <td>1</td>\n",
       "    </tr>\n",
       "    <tr>\n",
       "      <th>3</th>\n",
       "      <td>4</td>\n",
       "      <td>1</td>\n",
       "      <td>1</td>\n",
       "      <td>1</td>\n",
       "      <td>35.0</td>\n",
       "      <td>1</td>\n",
       "      <td>0</td>\n",
       "      <td>113803</td>\n",
       "      <td>53.1000</td>\n",
       "      <td>0</td>\n",
       "      <td>2</td>\n",
       "      <td>3</td>\n",
       "      <td>1</td>\n",
       "      <td>0</td>\n",
       "    </tr>\n",
       "    <tr>\n",
       "      <th>4</th>\n",
       "      <td>5</td>\n",
       "      <td>0</td>\n",
       "      <td>3</td>\n",
       "      <td>0</td>\n",
       "      <td>35.0</td>\n",
       "      <td>0</td>\n",
       "      <td>0</td>\n",
       "      <td>373450</td>\n",
       "      <td>8.0500</td>\n",
       "      <td>0</td>\n",
       "      <td>4</td>\n",
       "      <td>2</td>\n",
       "      <td>0</td>\n",
       "      <td>1</td>\n",
       "    </tr>\n",
       "  </tbody>\n",
       "</table>\n",
       "</div>"
      ],
      "text/plain": [
       "   PassengerId  Survived  Pclass  Sex   Age  SibSp  Parch            Ticket  \\\n",
       "0            1         0       3    0  22.0      1      0         A/5 21171   \n",
       "1            2         1       1    1  38.0      1      0          PC 17599   \n",
       "2            3         1       3    1  26.0      0      0  STON/O2. 3101282   \n",
       "3            4         1       1    1  35.0      1      0            113803   \n",
       "4            5         0       3    0  35.0      0      0            373450   \n",
       "\n",
       "      Fare  Embarked  Deck  Title  Family_size  Is_Alone  \n",
       "0   7.2500         0     5      2            1         0  \n",
       "1  71.2833         1     2      3            1         0  \n",
       "2   7.9250         0     4      1            0         1  \n",
       "3  53.1000         0     2      3            1         0  \n",
       "4   8.0500         0     4      2            0         1  "
      ]
     },
     "execution_count": 40,
     "metadata": {},
     "output_type": "execute_result"
    }
   ],
   "source": [
    "df.head()"
   ]
  },
  {
   "cell_type": "code",
   "execution_count": 41,
   "id": "b563154b",
   "metadata": {
    "execution": {
     "iopub.execute_input": "2025-05-13T04:54:40.653610Z",
     "iopub.status.busy": "2025-05-13T04:54:40.653268Z",
     "iopub.status.idle": "2025-05-13T04:54:41.384624Z",
     "shell.execute_reply": "2025-05-13T04:54:41.383323Z"
    },
    "papermill": {
     "duration": 0.749373,
     "end_time": "2025-05-13T04:54:41.387781",
     "exception": false,
     "start_time": "2025-05-13T04:54:40.638408",
     "status": "completed"
    },
    "tags": []
   },
   "outputs": [
    {
     "data": {
      "image/png": "[encoded data removed]",
      "text/plain": [
       "<Figure size 800x600 with 2 Axes>"
      ]
     },
     "metadata": {},
     "output_type": "display_data"
    }
   ],
   "source": [
    "import matplotlib.pyplot as plt\n",
    "import seaborn as sns\n",
    "\n",
    "plt.figure(figsize=(8,6)) \n",
    "corrr = df.corr(numeric_only=True)  \n",
    "\n",
    "sns.heatmap(corrr, annot=True, cmap='coolwarm', cbar=True)\n",
    "plt.title(\"Correlation Heatmap\")\n",
    "plt.tight_layout()\n",
    "plt.show()\n"
   ]
  },
  {
   "cell_type": "code",
   "execution_count": 42,
   "id": "5073f62d",
   "metadata": {
    "execution": {
     "iopub.execute_input": "2025-05-13T04:54:41.423077Z",
     "iopub.status.busy": "2025-05-13T04:54:41.422751Z",
     "iopub.status.idle": "2025-05-13T04:54:41.579036Z",
     "shell.execute_reply": "2025-05-13T04:54:41.577795Z"
    },
    "papermill": {
     "duration": 0.175875,
     "end_time": "2025-05-13T04:54:41.580639",
     "exception": false,
     "start_time": "2025-05-13T04:54:41.404764",
     "status": "completed"
    },
    "tags": []
   },
   "outputs": [
    {
     "data": {
      "text/plain": [
       "<Axes: xlabel='Survived', ylabel='Fare'>"
      ]
     },
     "execution_count": 42,
     "metadata": {},
     "output_type": "execute_result"
    },
    {
     "data": {
      "image/png": "[encoded data removed]",
      "text/plain": [
       "<Figure size 640x480 with 1 Axes>"
      ]
     },
     "metadata": {},
     "output_type": "display_data"
    }
   ],
   "source": [
    "sns.boxplot(x='Survived',y='Fare',data=df)"
   ]
  },
  {
   "cell_type": "code",
   "execution_count": 43,
   "id": "0ac282e6",
   "metadata": {
    "execution": {
     "iopub.execute_input": "2025-05-13T04:54:41.617736Z",
     "iopub.status.busy": "2025-05-13T04:54:41.616422Z",
     "iopub.status.idle": "2025-05-13T04:54:42.115453Z",
     "shell.execute_reply": "2025-05-13T04:54:42.114437Z"
    },
    "papermill": {
     "duration": 0.519329,
     "end_time": "2025-05-13T04:54:42.117444",
     "exception": false,
     "start_time": "2025-05-13T04:54:41.598115",
     "status": "completed"
    },
    "tags": []
   },
   "outputs": [],
   "source": [
    "from sklearn.model_selection import train_test_split\n",
    "from sklearn.preprocessing import StandardScaler\n",
    "from sklearn.metrics import accuracy_score, precision_score, recall_score, f1_score, roc_auc_score, confusion_matrix, classification_report\n",
    "\n",
    "from sklearn.linear_model import LogisticRegression\n",
    "from sklearn.ensemble import RandomForestClassifier\n",
    "from sklearn.svm import SVC\n",
    "from sklearn.tree import DecisionTreeClassifier\n",
    "from xgboost import XGBClassifier\n",
    "from sklearn.naive_bayes import GaussianNB\n",
    "\n"
   ]
  },
  {
   "cell_type": "code",
   "execution_count": 44,
   "id": "b0a7eabe",
   "metadata": {
    "execution": {
     "iopub.execute_input": "2025-05-13T04:54:42.154923Z",
     "iopub.status.busy": "2025-05-13T04:54:42.154469Z",
     "iopub.status.idle": "2025-05-13T04:54:42.163763Z",
     "shell.execute_reply": "2025-05-13T04:54:42.162273Z"
    },
    "papermill": {
     "duration": 0.030418,
     "end_time": "2025-05-13T04:54:42.165789",
     "exception": false,
     "start_time": "2025-05-13T04:54:42.135371",
     "status": "completed"
    },
    "tags": []
   },
   "outputs": [],
   "source": [
    "df.drop(['Ticket','PassengerId'],axis=1,inplace=True)"
   ]
  },
  {
   "cell_type": "code",
   "execution_count": 45,
   "id": "3be0d825",
   "metadata": {
    "execution": {
     "iopub.execute_input": "2025-05-13T04:54:42.203619Z",
     "iopub.status.busy": "2025-05-13T04:54:42.203086Z",
     "iopub.status.idle": "2025-05-13T04:54:42.216239Z",
     "shell.execute_reply": "2025-05-13T04:54:42.214724Z"
    },
    "papermill": {
     "duration": 0.034296,
     "end_time": "2025-05-13T04:54:42.218181",
     "exception": false,
     "start_time": "2025-05-13T04:54:42.183885",
     "status": "completed"
    },
    "tags": []
   },
   "outputs": [],
   "source": [
    "df['Fare_range'] = pd.cut(df['Fare'],bins=[0, 7.91, 14.454, 31, 513],labels=['Low', 'Mid', 'High', 'Very High'])"
   ]
  },
  {
   "cell_type": "code",
   "execution_count": 46,
   "id": "6547d015",
   "metadata": {
    "execution": {
     "iopub.execute_input": "2025-05-13T04:54:42.255180Z",
     "iopub.status.busy": "2025-05-13T04:54:42.254852Z",
     "iopub.status.idle": "2025-05-13T04:54:42.268256Z",
     "shell.execute_reply": "2025-05-13T04:54:42.267246Z"
    },
    "papermill": {
     "duration": 0.034029,
     "end_time": "2025-05-13T04:54:42.270414",
     "exception": false,
     "start_time": "2025-05-13T04:54:42.236385",
     "status": "completed"
    },
    "tags": []
   },
   "outputs": [
    {
     "data": {
      "text/plain": [
       "Fare_range\n",
       "High         229\n",
       "Very High    222\n",
       "Mid          217\n",
       "Low          208\n",
       "Name: count, dtype: int64"
      ]
     },
     "execution_count": 46,
     "metadata": {},
     "output_type": "execute_result"
    }
   ],
   "source": [
    "df['Fare_range'].value_counts()"
   ]
  },
  {
   "cell_type": "code",
   "execution_count": 47,
   "id": "127734f3",
   "metadata": {
    "execution": {
     "iopub.execute_input": "2025-05-13T04:54:42.310654Z",
     "iopub.status.busy": "2025-05-13T04:54:42.310300Z",
     "iopub.status.idle": "2025-05-13T04:54:42.327013Z",
     "shell.execute_reply": "2025-05-13T04:54:42.326060Z"
    },
    "papermill": {
     "duration": 0.038973,
     "end_time": "2025-05-13T04:54:42.328744",
     "exception": false,
     "start_time": "2025-05-13T04:54:42.289771",
     "status": "completed"
    },
    "tags": []
   },
   "outputs": [
    {
     "data": {
      "text/html": [
       "<div>\n",
       "<style scoped>\n",
       "    .dataframe tbody tr th:only-of-type {\n",
       "        vertical-align: middle;\n",
       "    }\n",
       "\n",
       "    .dataframe tbody tr th {\n",
       "        vertical-align: top;\n",
       "    }\n",
       "\n",
       "    .dataframe thead th {\n",
       "        text-align: right;\n",
       "    }\n",
       "</style>\n",
       "<table border=\"1\" class=\"dataframe\">\n",
       "  <thead>\n",
       "    <tr style=\"text-align: right;\">\n",
       "      <th></th>\n",
       "      <th>Survived</th>\n",
       "      <th>Pclass</th>\n",
       "      <th>Sex</th>\n",
       "      <th>Age</th>\n",
       "      <th>SibSp</th>\n",
       "      <th>Parch</th>\n",
       "      <th>Fare</th>\n",
       "      <th>Embarked</th>\n",
       "      <th>Deck</th>\n",
       "      <th>Title</th>\n",
       "      <th>Family_size</th>\n",
       "      <th>Is_Alone</th>\n",
       "      <th>Fare_range</th>\n",
       "    </tr>\n",
       "  </thead>\n",
       "  <tbody>\n",
       "    <tr>\n",
       "      <th>0</th>\n",
       "      <td>0</td>\n",
       "      <td>3</td>\n",
       "      <td>0</td>\n",
       "      <td>22.0</td>\n",
       "      <td>1</td>\n",
       "      <td>0</td>\n",
       "      <td>7.2500</td>\n",
       "      <td>0</td>\n",
       "      <td>5</td>\n",
       "      <td>2</td>\n",
       "      <td>1</td>\n",
       "      <td>0</td>\n",
       "      <td>Low</td>\n",
       "    </tr>\n",
       "    <tr>\n",
       "      <th>1</th>\n",
       "      <td>1</td>\n",
       "      <td>1</td>\n",
       "      <td>1</td>\n",
       "      <td>38.0</td>\n",
       "      <td>1</td>\n",
       "      <td>0</td>\n",
       "      <td>71.2833</td>\n",
       "      <td>1</td>\n",
       "      <td>2</td>\n",
       "      <td>3</td>\n",
       "      <td>1</td>\n",
       "      <td>0</td>\n",
       "      <td>Very High</td>\n",
       "    </tr>\n",
       "    <tr>\n",
       "      <th>2</th>\n",
       "      <td>1</td>\n",
       "      <td>3</td>\n",
       "      <td>1</td>\n",
       "      <td>26.0</td>\n",
       "      <td>0</td>\n",
       "      <td>0</td>\n",
       "      <td>7.9250</td>\n",
       "      <td>0</td>\n",
       "      <td>4</td>\n",
       "      <td>1</td>\n",
       "      <td>0</td>\n",
       "      <td>1</td>\n",
       "      <td>Mid</td>\n",
       "    </tr>\n",
       "    <tr>\n",
       "      <th>3</th>\n",
       "      <td>1</td>\n",
       "      <td>1</td>\n",
       "      <td>1</td>\n",
       "      <td>35.0</td>\n",
       "      <td>1</td>\n",
       "      <td>0</td>\n",
       "      <td>53.1000</td>\n",
       "      <td>0</td>\n",
       "      <td>2</td>\n",
       "      <td>3</td>\n",
       "      <td>1</td>\n",
       "      <td>0</td>\n",
       "      <td>Very High</td>\n",
       "    </tr>\n",
       "    <tr>\n",
       "      <th>4</th>\n",
       "      <td>0</td>\n",
       "      <td>3</td>\n",
       "      <td>0</td>\n",
       "      <td>35.0</td>\n",
       "      <td>0</td>\n",
       "      <td>0</td>\n",
       "      <td>8.0500</td>\n",
       "      <td>0</td>\n",
       "      <td>4</td>\n",
       "      <td>2</td>\n",
       "      <td>0</td>\n",
       "      <td>1</td>\n",
       "      <td>Mid</td>\n",
       "    </tr>\n",
       "  </tbody>\n",
       "</table>\n",
       "</div>"
      ],
      "text/plain": [
       "   Survived  Pclass  Sex   Age  SibSp  Parch     Fare  Embarked  Deck  Title  \\\n",
       "0         0       3    0  22.0      1      0   7.2500         0     5      2   \n",
       "1         1       1    1  38.0      1      0  71.2833         1     2      3   \n",
       "2         1       3    1  26.0      0      0   7.9250         0     4      1   \n",
       "3         1       1    1  35.0      1      0  53.1000         0     2      3   \n",
       "4         0       3    0  35.0      0      0   8.0500         0     4      2   \n",
       "\n",
       "   Family_size  Is_Alone Fare_range  \n",
       "0            1         0        Low  \n",
       "1            1         0  Very High  \n",
       "2            0         1        Mid  \n",
       "3            1         0  Very High  \n",
       "4            0         1        Mid  "
      ]
     },
     "execution_count": 47,
     "metadata": {},
     "output_type": "execute_result"
    }
   ],
   "source": [
    "df.head()"
   ]
  },
  {
   "cell_type": "code",
   "execution_count": 48,
   "id": "e05b6053",
   "metadata": {
    "execution": {
     "iopub.execute_input": "2025-05-13T04:54:42.370647Z",
     "iopub.status.busy": "2025-05-13T04:54:42.369440Z",
     "iopub.status.idle": "2025-05-13T04:54:42.604799Z",
     "shell.execute_reply": "2025-05-13T04:54:42.603883Z"
    },
    "papermill": {
     "duration": 0.25772,
     "end_time": "2025-05-13T04:54:42.606632",
     "exception": false,
     "start_time": "2025-05-13T04:54:42.348912",
     "status": "completed"
    },
    "tags": []
   },
   "outputs": [
    {
     "name": "stderr",
     "output_type": "stream",
     "text": [
      "/usr/local/lib/python3.11/dist-packages/seaborn/categorical.py:641: FutureWarning: The default of observed=False is deprecated and will be changed to True in a future version of pandas. Pass observed=False to retain current behavior or observed=True to adopt the future default and silence this warning.\n",
      "  grouped_vals = vals.groupby(grouper)\n"
     ]
    },
    {
     "data": {
      "image/png": "[encoded data removed]",
      "text/plain": [
       "<Figure size 640x480 with 1 Axes>"
      ]
     },
     "metadata": {},
     "output_type": "display_data"
    }
   ],
   "source": [
    "sns.barplot(x='Fare_range',y='Survived',data=df)\n",
    "plt.show()"
   ]
  },
  {
   "cell_type": "code",
   "execution_count": 49,
   "id": "743b36b9",
   "metadata": {
    "execution": {
     "iopub.execute_input": "2025-05-13T04:54:42.644270Z",
     "iopub.status.busy": "2025-05-13T04:54:42.643958Z",
     "iopub.status.idle": "2025-05-13T04:54:42.650259Z",
     "shell.execute_reply": "2025-05-13T04:54:42.649087Z"
    },
    "papermill": {
     "duration": 0.027529,
     "end_time": "2025-05-13T04:54:42.652314",
     "exception": false,
     "start_time": "2025-05-13T04:54:42.624785",
     "status": "completed"
    },
    "tags": []
   },
   "outputs": [],
   "source": [
    "df['Fare_range'] = df['Fare_range'].astype('category').cat.codes"
   ]
  },
  {
   "cell_type": "code",
   "execution_count": 50,
   "id": "11e3308b",
   "metadata": {
    "execution": {
     "iopub.execute_input": "2025-05-13T04:54:42.690410Z",
     "iopub.status.busy": "2025-05-13T04:54:42.689373Z",
     "iopub.status.idle": "2025-05-13T04:54:42.699396Z",
     "shell.execute_reply": "2025-05-13T04:54:42.698316Z"
    },
    "papermill": {
     "duration": 0.031109,
     "end_time": "2025-05-13T04:54:42.701259",
     "exception": false,
     "start_time": "2025-05-13T04:54:42.670150",
     "status": "completed"
    },
    "tags": []
   },
   "outputs": [
    {
     "data": {
      "text/plain": [
       "Fare_range\n",
       " 2    229\n",
       " 3    222\n",
       " 1    217\n",
       " 0    208\n",
       "-1     15\n",
       "Name: count, dtype: int64"
      ]
     },
     "execution_count": 50,
     "metadata": {},
     "output_type": "execute_result"
    }
   ],
   "source": [
    "df['Fare_range'].value_counts()"
   ]
  },
  {
   "cell_type": "code",
   "execution_count": 51,
   "id": "ffa4b496",
   "metadata": {
    "execution": {
     "iopub.execute_input": "2025-05-13T04:54:42.739833Z",
     "iopub.status.busy": "2025-05-13T04:54:42.739489Z",
     "iopub.status.idle": "2025-05-13T04:54:42.747277Z",
     "shell.execute_reply": "2025-05-13T04:54:42.746204Z"
    },
    "papermill": {
     "duration": 0.02915,
     "end_time": "2025-05-13T04:54:42.749166",
     "exception": false,
     "start_time": "2025-05-13T04:54:42.720016",
     "status": "completed"
    },
    "tags": []
   },
   "outputs": [],
   "source": [
    "df['Age_range'] = pd.cut(df['Age'],bins=[0, 12, 18, 35, 60, 100],labels=['Child', 'Teen', 'Young Adult', 'Adult', 'Senior'])"
   ]
  },
  {
   "cell_type": "code",
   "execution_count": 52,
   "id": "80ff2bbd",
   "metadata": {
    "execution": {
     "iopub.execute_input": "2025-05-13T04:54:42.791211Z",
     "iopub.status.busy": "2025-05-13T04:54:42.790919Z",
     "iopub.status.idle": "2025-05-13T04:54:43.069941Z",
     "shell.execute_reply": "2025-05-13T04:54:43.068606Z"
    },
    "papermill": {
     "duration": 0.302291,
     "end_time": "2025-05-13T04:54:43.071582",
     "exception": false,
     "start_time": "2025-05-13T04:54:42.769291",
     "status": "completed"
    },
    "tags": []
   },
   "outputs": [
    {
     "name": "stderr",
     "output_type": "stream",
     "text": [
      "/usr/local/lib/python3.11/dist-packages/seaborn/categorical.py:641: FutureWarning: The default of observed=False is deprecated and will be changed to True in a future version of pandas. Pass observed=False to retain current behavior or observed=True to adopt the future default and silence this warning.\n",
      "  grouped_vals = vals.groupby(grouper)\n"
     ]
    },
    {
     "data": {
      "text/plain": [
       "<Axes: xlabel='Age_range', ylabel='Survived'>"
      ]
     },
     "execution_count": 52,
     "metadata": {},
     "output_type": "execute_result"
    },
    {
     "data": {
      "image/png": "[encoded data removed]",
      "text/plain": [
       "<Figure size 640x480 with 1 Axes>"
      ]
     },
     "metadata": {},
     "output_type": "display_data"
    }
   ],
   "source": [
    "sns.barplot(x='Age_range',y='Survived',data=df)"
   ]
  },
  {
   "cell_type": "code",
   "execution_count": 53,
   "id": "9eee8a53",
   "metadata": {
    "execution": {
     "iopub.execute_input": "2025-05-13T04:54:43.114077Z",
     "iopub.status.busy": "2025-05-13T04:54:43.113731Z",
     "iopub.status.idle": "2025-05-13T04:54:43.119697Z",
     "shell.execute_reply": "2025-05-13T04:54:43.118412Z"
    },
    "papermill": {
     "duration": 0.030623,
     "end_time": "2025-05-13T04:54:43.121409",
     "exception": false,
     "start_time": "2025-05-13T04:54:43.090786",
     "status": "completed"
    },
    "tags": []
   },
   "outputs": [],
   "source": [
    "df['Age_range'] = df['Age_range'].astype('category').cat.codes"
   ]
  },
  {
   "cell_type": "code",
   "execution_count": 54,
   "id": "794c893f",
   "metadata": {
    "execution": {
     "iopub.execute_input": "2025-05-13T04:54:43.161391Z",
     "iopub.status.busy": "2025-05-13T04:54:43.160947Z",
     "iopub.status.idle": "2025-05-13T04:54:43.174005Z",
     "shell.execute_reply": "2025-05-13T04:54:43.173126Z"
    },
    "papermill": {
     "duration": 0.034721,
     "end_time": "2025-05-13T04:54:43.175585",
     "exception": false,
     "start_time": "2025-05-13T04:54:43.140864",
     "status": "completed"
    },
    "tags": []
   },
   "outputs": [
    {
     "data": {
      "text/html": [
       "<div>\n",
       "<style scoped>\n",
       "    .dataframe tbody tr th:only-of-type {\n",
       "        vertical-align: middle;\n",
       "    }\n",
       "\n",
       "    .dataframe tbody tr th {\n",
       "        vertical-align: top;\n",
       "    }\n",
       "\n",
       "    .dataframe thead th {\n",
       "        text-align: right;\n",
       "    }\n",
       "</style>\n",
       "<table border=\"1\" class=\"dataframe\">\n",
       "  <thead>\n",
       "    <tr style=\"text-align: right;\">\n",
       "      <th></th>\n",
       "      <th>Survived</th>\n",
       "      <th>Pclass</th>\n",
       "      <th>Sex</th>\n",
       "      <th>Age</th>\n",
       "      <th>SibSp</th>\n",
       "      <th>Parch</th>\n",
       "      <th>Fare</th>\n",
       "      <th>Embarked</th>\n",
       "      <th>Deck</th>\n",
       "      <th>Title</th>\n",
       "      <th>Family_size</th>\n",
       "      <th>Is_Alone</th>\n",
       "      <th>Fare_range</th>\n",
       "      <th>Age_range</th>\n",
       "    </tr>\n",
       "  </thead>\n",
       "  <tbody>\n",
       "    <tr>\n",
       "      <th>0</th>\n",
       "      <td>0</td>\n",
       "      <td>3</td>\n",
       "      <td>0</td>\n",
       "      <td>22.0</td>\n",
       "      <td>1</td>\n",
       "      <td>0</td>\n",
       "      <td>7.2500</td>\n",
       "      <td>0</td>\n",
       "      <td>5</td>\n",
       "      <td>2</td>\n",
       "      <td>1</td>\n",
       "      <td>0</td>\n",
       "      <td>0</td>\n",
       "      <td>2</td>\n",
       "    </tr>\n",
       "    <tr>\n",
       "      <th>1</th>\n",
       "      <td>1</td>\n",
       "      <td>1</td>\n",
       "      <td>1</td>\n",
       "      <td>38.0</td>\n",
       "      <td>1</td>\n",
       "      <td>0</td>\n",
       "      <td>71.2833</td>\n",
       "      <td>1</td>\n",
       "      <td>2</td>\n",
       "      <td>3</td>\n",
       "      <td>1</td>\n",
       "      <td>0</td>\n",
       "      <td>3</td>\n",
       "      <td>3</td>\n",
       "    </tr>\n",
       "    <tr>\n",
       "      <th>2</th>\n",
       "      <td>1</td>\n",
       "      <td>3</td>\n",
       "      <td>1</td>\n",
       "      <td>26.0</td>\n",
       "      <td>0</td>\n",
       "      <td>0</td>\n",
       "      <td>7.9250</td>\n",
       "      <td>0</td>\n",
       "      <td>4</td>\n",
       "      <td>1</td>\n",
       "      <td>0</td>\n",
       "      <td>1</td>\n",
       "      <td>1</td>\n",
       "      <td>2</td>\n",
       "    </tr>\n",
       "    <tr>\n",
       "      <th>3</th>\n",
       "      <td>1</td>\n",
       "      <td>1</td>\n",
       "      <td>1</td>\n",
       "      <td>35.0</td>\n",
       "      <td>1</td>\n",
       "      <td>0</td>\n",
       "      <td>53.1000</td>\n",
       "      <td>0</td>\n",
       "      <td>2</td>\n",
       "      <td>3</td>\n",
       "      <td>1</td>\n",
       "      <td>0</td>\n",
       "      <td>3</td>\n",
       "      <td>2</td>\n",
       "    </tr>\n",
       "    <tr>\n",
       "      <th>4</th>\n",
       "      <td>0</td>\n",
       "      <td>3</td>\n",
       "      <td>0</td>\n",
       "      <td>35.0</td>\n",
       "      <td>0</td>\n",
       "      <td>0</td>\n",
       "      <td>8.0500</td>\n",
       "      <td>0</td>\n",
       "      <td>4</td>\n",
       "      <td>2</td>\n",
       "      <td>0</td>\n",
       "      <td>1</td>\n",
       "      <td>1</td>\n",
       "      <td>2</td>\n",
       "    </tr>\n",
       "  </tbody>\n",
       "</table>\n",
       "</div>"
      ],
      "text/plain": [
       "   Survived  Pclass  Sex   Age  SibSp  Parch     Fare  Embarked  Deck  Title  \\\n",
       "0         0       3    0  22.0      1      0   7.2500         0     5      2   \n",
       "1         1       1    1  38.0      1      0  71.2833         1     2      3   \n",
       "2         1       3    1  26.0      0      0   7.9250         0     4      1   \n",
       "3         1       1    1  35.0      1      0  53.1000         0     2      3   \n",
       "4         0       3    0  35.0      0      0   8.0500         0     4      2   \n",
       "\n",
       "   Family_size  Is_Alone  Fare_range  Age_range  \n",
       "0            1         0           0          2  \n",
       "1            1         0           3          3  \n",
       "2            0         1           1          2  \n",
       "3            1         0           3          2  \n",
       "4            0         1           1          2  "
      ]
     },
     "execution_count": 54,
     "metadata": {},
     "output_type": "execute_result"
    }
   ],
   "source": [
    "df.head()"
   ]
  },
  {
   "cell_type": "code",
   "execution_count": 55,
   "id": "ccc57bb4",
   "metadata": {
    "execution": {
     "iopub.execute_input": "2025-05-13T04:54:43.215992Z",
     "iopub.status.busy": "2025-05-13T04:54:43.214615Z",
     "iopub.status.idle": "2025-05-13T04:54:43.496724Z",
     "shell.execute_reply": "2025-05-13T04:54:43.495706Z"
    },
    "papermill": {
     "duration": 0.304349,
     "end_time": "2025-05-13T04:54:43.498587",
     "exception": false,
     "start_time": "2025-05-13T04:54:43.194238",
     "status": "completed"
    },
    "tags": []
   },
   "outputs": [
    {
     "data": {
      "text/plain": [
       "<Axes: xlabel='Fare_range', ylabel='Survived'>"
      ]
     },
     "execution_count": 55,
     "metadata": {},
     "output_type": "execute_result"
    },
    {
     "data": {
      "image/png": "[encoded data removed]",
      "text/plain": [
       "<Figure size 640x480 with 1 Axes>"
      ]
     },
     "metadata": {},
     "output_type": "display_data"
    }
   ],
   "source": [
    "sns.barplot(x='Fare_range',y='Survived',data=df)"
   ]
  },
  {
   "cell_type": "code",
   "execution_count": 56,
   "id": "3f960d26",
   "metadata": {
    "execution": {
     "iopub.execute_input": "2025-05-13T04:54:43.538788Z",
     "iopub.status.busy": "2025-05-13T04:54:43.538453Z",
     "iopub.status.idle": "2025-05-13T04:54:43.552792Z",
     "shell.execute_reply": "2025-05-13T04:54:43.551791Z"
    },
    "papermill": {
     "duration": 0.035803,
     "end_time": "2025-05-13T04:54:43.554316",
     "exception": false,
     "start_time": "2025-05-13T04:54:43.518513",
     "status": "completed"
    },
    "tags": []
   },
   "outputs": [
    {
     "data": {
      "text/html": [
       "<div>\n",
       "<style scoped>\n",
       "    .dataframe tbody tr th:only-of-type {\n",
       "        vertical-align: middle;\n",
       "    }\n",
       "\n",
       "    .dataframe tbody tr th {\n",
       "        vertical-align: top;\n",
       "    }\n",
       "\n",
       "    .dataframe thead th {\n",
       "        text-align: right;\n",
       "    }\n",
       "</style>\n",
       "<table border=\"1\" class=\"dataframe\">\n",
       "  <thead>\n",
       "    <tr style=\"text-align: right;\">\n",
       "      <th></th>\n",
       "      <th>Survived</th>\n",
       "      <th>Pclass</th>\n",
       "      <th>Sex</th>\n",
       "      <th>Age</th>\n",
       "      <th>SibSp</th>\n",
       "      <th>Parch</th>\n",
       "      <th>Fare</th>\n",
       "      <th>Embarked</th>\n",
       "      <th>Deck</th>\n",
       "      <th>Title</th>\n",
       "      <th>Family_size</th>\n",
       "      <th>Is_Alone</th>\n",
       "      <th>Fare_range</th>\n",
       "      <th>Age_range</th>\n",
       "    </tr>\n",
       "  </thead>\n",
       "  <tbody>\n",
       "    <tr>\n",
       "      <th>0</th>\n",
       "      <td>0</td>\n",
       "      <td>3</td>\n",
       "      <td>0</td>\n",
       "      <td>22.0</td>\n",
       "      <td>1</td>\n",
       "      <td>0</td>\n",
       "      <td>7.2500</td>\n",
       "      <td>0</td>\n",
       "      <td>5</td>\n",
       "      <td>2</td>\n",
       "      <td>1</td>\n",
       "      <td>0</td>\n",
       "      <td>0</td>\n",
       "      <td>2</td>\n",
       "    </tr>\n",
       "    <tr>\n",
       "      <th>1</th>\n",
       "      <td>1</td>\n",
       "      <td>1</td>\n",
       "      <td>1</td>\n",
       "      <td>38.0</td>\n",
       "      <td>1</td>\n",
       "      <td>0</td>\n",
       "      <td>71.2833</td>\n",
       "      <td>1</td>\n",
       "      <td>2</td>\n",
       "      <td>3</td>\n",
       "      <td>1</td>\n",
       "      <td>0</td>\n",
       "      <td>3</td>\n",
       "      <td>3</td>\n",
       "    </tr>\n",
       "    <tr>\n",
       "      <th>2</th>\n",
       "      <td>1</td>\n",
       "      <td>3</td>\n",
       "      <td>1</td>\n",
       "      <td>26.0</td>\n",
       "      <td>0</td>\n",
       "      <td>0</td>\n",
       "      <td>7.9250</td>\n",
       "      <td>0</td>\n",
       "      <td>4</td>\n",
       "      <td>1</td>\n",
       "      <td>0</td>\n",
       "      <td>1</td>\n",
       "      <td>1</td>\n",
       "      <td>2</td>\n",
       "    </tr>\n",
       "    <tr>\n",
       "      <th>3</th>\n",
       "      <td>1</td>\n",
       "      <td>1</td>\n",
       "      <td>1</td>\n",
       "      <td>35.0</td>\n",
       "      <td>1</td>\n",
       "      <td>0</td>\n",
       "      <td>53.1000</td>\n",
       "      <td>0</td>\n",
       "      <td>2</td>\n",
       "      <td>3</td>\n",
       "      <td>1</td>\n",
       "      <td>0</td>\n",
       "      <td>3</td>\n",
       "      <td>2</td>\n",
       "    </tr>\n",
       "    <tr>\n",
       "      <th>4</th>\n",
       "      <td>0</td>\n",
       "      <td>3</td>\n",
       "      <td>0</td>\n",
       "      <td>35.0</td>\n",
       "      <td>0</td>\n",
       "      <td>0</td>\n",
       "      <td>8.0500</td>\n",
       "      <td>0</td>\n",
       "      <td>4</td>\n",
       "      <td>2</td>\n",
       "      <td>0</td>\n",
       "      <td>1</td>\n",
       "      <td>1</td>\n",
       "      <td>2</td>\n",
       "    </tr>\n",
       "  </tbody>\n",
       "</table>\n",
       "</div>"
      ],
      "text/plain": [
       "   Survived  Pclass  Sex   Age  SibSp  Parch     Fare  Embarked  Deck  Title  \\\n",
       "0         0       3    0  22.0      1      0   7.2500         0     5      2   \n",
       "1         1       1    1  38.0      1      0  71.2833         1     2      3   \n",
       "2         1       3    1  26.0      0      0   7.9250         0     4      1   \n",
       "3         1       1    1  35.0      1      0  53.1000         0     2      3   \n",
       "4         0       3    0  35.0      0      0   8.0500         0     4      2   \n",
       "\n",
       "   Family_size  Is_Alone  Fare_range  Age_range  \n",
       "0            1         0           0          2  \n",
       "1            1         0           3          3  \n",
       "2            0         1           1          2  \n",
       "3            1         0           3          2  \n",
       "4            0         1           1          2  "
      ]
     },
     "execution_count": 56,
     "metadata": {},
     "output_type": "execute_result"
    }
   ],
   "source": [
    "df.head()"
   ]
  },
  {
   "cell_type": "code",
   "execution_count": null,
   "id": "48f4f1b9",
   "metadata": {
    "papermill": {
     "duration": 0.019933,
     "end_time": "2025-05-13T04:54:43.593649",
     "exception": false,
     "start_time": "2025-05-13T04:54:43.573716",
     "status": "completed"
    },
    "tags": []
   },
   "outputs": [],
   "source": []
  },
  {
   "cell_type": "code",
   "execution_count": 57,
   "id": "8a00aa83",
   "metadata": {
    "execution": {
     "iopub.execute_input": "2025-05-13T04:54:43.635376Z",
     "iopub.status.busy": "2025-05-13T04:54:43.635100Z",
     "iopub.status.idle": "2025-05-13T04:54:43.642499Z",
     "shell.execute_reply": "2025-05-13T04:54:43.641109Z"
    },
    "papermill": {
     "duration": 0.030982,
     "end_time": "2025-05-13T04:54:43.644700",
     "exception": false,
     "start_time": "2025-05-13T04:54:43.613718",
     "status": "completed"
    },
    "tags": []
   },
   "outputs": [],
   "source": [
    "df = df.drop(['Age', 'SibSp', 'Parch', 'Fare', 'Title','Embarked' ], axis=1)\n"
   ]
  },
  {
   "cell_type": "code",
   "execution_count": 58,
   "id": "5f451190",
   "metadata": {
    "execution": {
     "iopub.execute_input": "2025-05-13T04:54:43.686286Z",
     "iopub.status.busy": "2025-05-13T04:54:43.686004Z",
     "iopub.status.idle": "2025-05-13T04:54:43.692524Z",
     "shell.execute_reply": "2025-05-13T04:54:43.691559Z"
    },
    "papermill": {
     "duration": 0.030185,
     "end_time": "2025-05-13T04:54:43.694497",
     "exception": false,
     "start_time": "2025-05-13T04:54:43.664312",
     "status": "completed"
    },
    "tags": []
   },
   "outputs": [],
   "source": [
    "X = df.drop('Survived',axis=1)\n",
    "y = df['Survived'] "
   ]
  },
  {
   "cell_type": "code",
   "execution_count": null,
   "id": "ec993e10",
   "metadata": {
    "papermill": {
     "duration": 0.019566,
     "end_time": "2025-05-13T04:54:43.733999",
     "exception": false,
     "start_time": "2025-05-13T04:54:43.714433",
     "status": "completed"
    },
    "tags": []
   },
   "outputs": [],
   "source": []
  },
  {
   "cell_type": "code",
   "execution_count": null,
   "id": "79f4b646",
   "metadata": {
    "papermill": {
     "duration": 0.019021,
     "end_time": "2025-05-13T04:54:43.773205",
     "exception": false,
     "start_time": "2025-05-13T04:54:43.754184",
     "status": "completed"
    },
    "tags": []
   },
   "outputs": [],
   "source": []
  },
  {
   "cell_type": "code",
   "execution_count": null,
   "id": "7921c847",
   "metadata": {
    "papermill": {
     "duration": 0.018773,
     "end_time": "2025-05-13T04:54:43.812683",
     "exception": false,
     "start_time": "2025-05-13T04:54:43.793910",
     "status": "completed"
    },
    "tags": []
   },
   "outputs": [],
   "source": []
  },
  {
   "cell_type": "code",
   "execution_count": 59,
   "id": "38ad90ff",
   "metadata": {
    "execution": {
     "iopub.execute_input": "2025-05-13T04:54:43.852173Z",
     "iopub.status.busy": "2025-05-13T04:54:43.851866Z",
     "iopub.status.idle": "2025-05-13T04:54:43.862728Z",
     "shell.execute_reply": "2025-05-13T04:54:43.861011Z"
    },
    "papermill": {
     "duration": 0.033214,
     "end_time": "2025-05-13T04:54:43.864922",
     "exception": false,
     "start_time": "2025-05-13T04:54:43.831708",
     "status": "completed"
    },
    "tags": []
   },
   "outputs": [],
   "source": [
    "X_train, X_test, y_train, y_test = train_test_split(X,y,test_size=0.2,random_state=42)"
   ]
  },
  {
   "cell_type": "code",
   "execution_count": 60,
   "id": "9bf88bbc",
   "metadata": {
    "execution": {
     "iopub.execute_input": "2025-05-13T04:54:43.906439Z",
     "iopub.status.busy": "2025-05-13T04:54:43.906015Z",
     "iopub.status.idle": "2025-05-13T04:54:43.917565Z",
     "shell.execute_reply": "2025-05-13T04:54:43.916324Z"
    },
    "papermill": {
     "duration": 0.034539,
     "end_time": "2025-05-13T04:54:43.919600",
     "exception": false,
     "start_time": "2025-05-13T04:54:43.885061",
     "status": "completed"
    },
    "tags": []
   },
   "outputs": [],
   "source": [
    "scaler = StandardScaler()\n",
    "X_train = scaler.fit_transform(X_train)\n",
    "X_test = scaler.transform(X_test)"
   ]
  },
  {
   "cell_type": "code",
   "execution_count": 61,
   "id": "448ddeb5",
   "metadata": {
    "execution": {
     "iopub.execute_input": "2025-05-13T04:54:43.960458Z",
     "iopub.status.busy": "2025-05-13T04:54:43.960123Z",
     "iopub.status.idle": "2025-05-13T04:54:43.966217Z",
     "shell.execute_reply": "2025-05-13T04:54:43.965088Z"
    },
    "papermill": {
     "duration": 0.028714,
     "end_time": "2025-05-13T04:54:43.967713",
     "exception": false,
     "start_time": "2025-05-13T04:54:43.938999",
     "status": "completed"
    },
    "tags": []
   },
   "outputs": [],
   "source": [
    "#trying different classiication models\n",
    "models = {\n",
    "    \"Logistic Regression\": LogisticRegression(),\n",
    "    \"Decision Tree\": DecisionTreeClassifier(),\n",
    "    \"Random Forest\": RandomForestClassifier(),\n",
    "    \"SVM\": SVC(probability=True),\n",
    "    \"XGBoost\": XGBClassifier(use_label_encoder=False, eval_metric='logloss'),\n",
    "    \"Naive Bayes\": GaussianNB()\n",
    "}"
   ]
  },
  {
   "cell_type": "code",
   "execution_count": 62,
   "id": "316e97a5",
   "metadata": {
    "execution": {
     "iopub.execute_input": "2025-05-13T04:54:44.010498Z",
     "iopub.status.busy": "2025-05-13T04:54:44.010185Z",
     "iopub.status.idle": "2025-05-13T04:54:44.533791Z",
     "shell.execute_reply": "2025-05-13T04:54:44.532581Z"
    },
    "papermill": {
     "duration": 0.547821,
     "end_time": "2025-05-13T04:54:44.535705",
     "exception": false,
     "start_time": "2025-05-13T04:54:43.987884",
     "status": "completed"
    },
    "tags": []
   },
   "outputs": [],
   "source": [
    "result=[]\n",
    "for name, model in models.items():\n",
    "    model.fit(X_train, y_train)\n",
    "    y_pred = model.predict(X_test)\n",
    "    y_proba = model.predict_proba(X_test)[:, 1]\n",
    "\n",
    "    result.append({\n",
    "        'Model': name,\n",
    "        'Accuracy': accuracy_score(y_test, y_pred),\n",
    "        'Precision': precision_score(y_test, y_pred),\n",
    "        'Recall': recall_score(y_test, y_pred),\n",
    "        'F1 Score': f1_score(y_test, y_pred),\n",
    "        'ROC AUC': roc_auc_score(y_test, y_proba)\n",
    "    })"
   ]
  },
  {
   "cell_type": "code",
   "execution_count": 63,
   "id": "4f721df3",
   "metadata": {
    "execution": {
     "iopub.execute_input": "2025-05-13T04:54:44.577697Z",
     "iopub.status.busy": "2025-05-13T04:54:44.577349Z",
     "iopub.status.idle": "2025-05-13T04:54:44.588579Z",
     "shell.execute_reply": "2025-05-13T04:54:44.587243Z"
    },
    "papermill": {
     "duration": 0.033963,
     "end_time": "2025-05-13T04:54:44.590337",
     "exception": false,
     "start_time": "2025-05-13T04:54:44.556374",
     "status": "completed"
    },
    "tags": []
   },
   "outputs": [
    {
     "name": "stdout",
     "output_type": "stream",
     "text": [
      "                 Model  Accuracy  Precision    Recall  F1 Score   ROC AUC\n",
      "2        Random Forest  0.843575   0.819444  0.797297  0.808219  0.883269\n",
      "4              XGBoost  0.843575   0.828571  0.783784  0.805556  0.895367\n",
      "1        Decision Tree  0.832402   0.814286  0.770270  0.791667  0.832690\n",
      "0  Logistic Regression  0.810056   0.803030  0.716216  0.757143  0.882947\n",
      "3                  SVM  0.798883   0.796875  0.689189  0.739130  0.861197\n",
      "5          Naive Bayes  0.748603   0.679012  0.743243  0.709677  0.864672\n"
     ]
    }
   ],
   "source": [
    "result_df = pd.DataFrame(result).sort_values(by='F1 Score', ascending=False)\n",
    "print(result_df)"
   ]
  }
 ],
 "metadata": {
  "kaggle": {
   "accelerator": "none",
   "dataSources": [
    {
     "datasetId": 1818188,
     "sourceId": 2965537,
     "sourceType": "datasetVersion"
    }
   ],
   "dockerImageVersionId": 31012,
   "isGpuEnabled": false,
   "isInternetEnabled": true,
   "language": "python",
   "sourceType": "notebook"
  },
  "kernelspec": {
   "display_name": "Python 3",
   "language": "python",
   "name": "python3"
  },
  "language_info": {
   "codemirror_mode": {
    "name": "ipython",
    "version": 3
   },
   "file_extension": ".py",
   "mimetype": "text/x-python",
   "name": "python",
   "nbconvert_exporter": "python",
   "pygments_lexer": "ipython3",
   "version": "3.11.11"
  },
  "papermill": {
   "default_parameters": {},
   "duration": 19.468225,
   "end_time": "2025-05-13T04:54:45.431638",
   "environment_variables": {},
   "exception": null,
   "input_path": "__notebook__.ipynb",
   "output_path": "__notebook__.ipynb",
   "parameters": {},
   "start_time": "2025-05-13T04:54:25.963413",
   "version": "2.6.0"
  }
 },
 "nbformat": 4,
 "nbformat_minor": 5
}
